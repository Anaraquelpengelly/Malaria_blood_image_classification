{
 "cells": [
  {
   "cell_type": "markdown",
   "metadata": {},
   "source": [
    "# 1-Import relevant packages"
   ]
  },
  {
   "cell_type": "code",
   "execution_count": 1,
   "metadata": {},
   "outputs": [],
   "source": [
    "import numpy as np\n",
    "import pandas as pd\n",
    "import matplotlib.pyplot as plt"
   ]
  },
  {
   "cell_type": "markdown",
   "metadata": {},
   "source": [
    "# 2-Load and visualise the data"
   ]
  },
  {
   "cell_type": "markdown",
   "metadata": {},
   "source": [
    "Giemsa-stained thin blood smear slides from 150 P. falciparum-infected and 50 healthy patients were collected and photographed at Chittagong Medical College Hospital, Bangladesh. The smartphone’s built-in camera acquired images of slides for each microscopic field of view. The images were manually annotated by an expert slide reader at the Mahidol-Oxford Tropical Medicine Research Unit in Bangkok, Thailand. The de-identified images and annotations are archived at NLM (IRB#12972). We applied a level-set based algorithm to detect and segment the red blood cells. The dataset contains a total of 27,558 cell images with equal instances of parasitized and uninfected cells\n",
    "\n",
    "TensorFlow data builder link: tfds.image.malaria.Malaria Publication link: https://lhncbc.nlm.nih.gov/publication/pub9932"
   ]
  },
  {
   "cell_type": "markdown",
   "metadata": {},
   "source": [
    "## 2.1 Load the labels"
   ]
  },
  {
   "cell_type": "code",
   "execution_count": 2,
   "metadata": {},
   "outputs": [],
   "source": [
    "parasited=pd.read_csv(\"/Users/anaraquelpengelly/Desktop/MSC_health_data_science/term_2/machine_learning/project_malaria/Malaria_blood_image_classification/patientid_cellmapping_parasitized.csv\")\n",
    "uninfected = pd.read_csv(\"/Users/anaraquelpengelly/Desktop/MSC_health_data_science/term_2/machine_learning/project_malaria/Malaria_blood_image_classification/patientid_cellmapping_uninfected.csv\")"
   ]
  },
  {
   "cell_type": "code",
   "execution_count": 11,
   "metadata": {},
   "outputs": [
    {
     "data": {
      "text/html": [
       "<div>\n",
       "<style scoped>\n",
       "    .dataframe tbody tr th:only-of-type {\n",
       "        vertical-align: middle;\n",
       "    }\n",
       "\n",
       "    .dataframe tbody tr th {\n",
       "        vertical-align: top;\n",
       "    }\n",
       "\n",
       "    .dataframe thead th {\n",
       "        text-align: right;\n",
       "    }\n",
       "</style>\n",
       "<table border=\"1\" class=\"dataframe\">\n",
       "  <thead>\n",
       "    <tr style=\"text-align: right;\">\n",
       "      <th></th>\n",
       "      <th>C100P61ThinF</th>\n",
       "      <th>['C100P61ThinF_IMG_20150918_144104_cell_162.png'</th>\n",
       "      <th>'C100P61ThinF_IMG_20150918_144104_cell_163.png'</th>\n",
       "      <th>'C100P61ThinF_IMG_20150918_144104_cell_164.png'</th>\n",
       "      <th>'C100P61ThinF_IMG_20150918_144104_cell_165.png'</th>\n",
       "      <th>'C100P61ThinF_IMG_20150918_144104_cell_166.png'</th>\n",
       "      <th>'C100P61ThinF_IMG_20150918_144104_cell_167.png'</th>\n",
       "      <th>'C100P61ThinF_IMG_20150918_144104_cell_168.png'</th>\n",
       "      <th>'C100P61ThinF_IMG_20150918_144104_cell_169.png'</th>\n",
       "      <th>'C100P61ThinF_IMG_20150918_144104_cell_170.png'</th>\n",
       "      <th>...</th>\n",
       "      <th>Unnamed: 624</th>\n",
       "      <th>Unnamed: 625</th>\n",
       "      <th>Unnamed: 626</th>\n",
       "      <th>Unnamed: 627</th>\n",
       "      <th>Unnamed: 628</th>\n",
       "      <th>Unnamed: 629</th>\n",
       "      <th>Unnamed: 630</th>\n",
       "      <th>Unnamed: 631</th>\n",
       "      <th>Unnamed: 632</th>\n",
       "      <th>Unnamed: 633</th>\n",
       "    </tr>\n",
       "  </thead>\n",
       "  <tbody>\n",
       "    <tr>\n",
       "      <th>0</th>\n",
       "      <td>C101P62ThinF</td>\n",
       "      <td>['C101P62ThinF_IMG_20150918_151006_cell_61.png'</td>\n",
       "      <td>'C101P62ThinF_IMG_20150918_151006_cell_62.png'</td>\n",
       "      <td>'C101P62ThinF_IMG_20150918_151006_cell_63.png'</td>\n",
       "      <td>'C101P62ThinF_IMG_20150918_151006_cell_64.png'</td>\n",
       "      <td>'C101P62ThinF_IMG_20150918_151006_cell_65.png'</td>\n",
       "      <td>'C101P62ThinF_IMG_20150918_151006_cell_66.png'</td>\n",
       "      <td>'C101P62ThinF_IMG_20150918_151006_cell_67.png'</td>\n",
       "      <td>'C101P62ThinF_IMG_20150918_151006_cell_68.png'</td>\n",
       "      <td>'C101P62ThinF_IMG_20150918_151006_cell_69.png'</td>\n",
       "      <td>...</td>\n",
       "      <td>NaN</td>\n",
       "      <td>NaN</td>\n",
       "      <td>NaN</td>\n",
       "      <td>NaN</td>\n",
       "      <td>NaN</td>\n",
       "      <td>NaN</td>\n",
       "      <td>NaN</td>\n",
       "      <td>NaN</td>\n",
       "      <td>NaN</td>\n",
       "      <td>NaN</td>\n",
       "    </tr>\n",
       "    <tr>\n",
       "      <th>1</th>\n",
       "      <td>C102P63ThinF</td>\n",
       "      <td>['C102P63ThinF_IMG_20150918_161508_cell_190.png'</td>\n",
       "      <td>'C102P63ThinF_IMG_20150918_161508_cell_191.png'</td>\n",
       "      <td>'C102P63ThinF_IMG_20150918_161508_cell_192.png'</td>\n",
       "      <td>'C102P63ThinF_IMG_20150918_161508_cell_193.png'</td>\n",
       "      <td>'C102P63ThinF_IMG_20150918_161508_cell_194.png'</td>\n",
       "      <td>'C102P63ThinF_IMG_20150918_161508_cell_195.png'</td>\n",
       "      <td>'C102P63ThinF_IMG_20150918_161826_cell_170.png'</td>\n",
       "      <td>'C102P63ThinF_IMG_20150918_161826_cell_171.png'</td>\n",
       "      <td>'C102P63ThinF_IMG_20150918_161826_cell_172.png'</td>\n",
       "      <td>...</td>\n",
       "      <td>NaN</td>\n",
       "      <td>NaN</td>\n",
       "      <td>NaN</td>\n",
       "      <td>NaN</td>\n",
       "      <td>NaN</td>\n",
       "      <td>NaN</td>\n",
       "      <td>NaN</td>\n",
       "      <td>NaN</td>\n",
       "      <td>NaN</td>\n",
       "      <td>NaN</td>\n",
       "    </tr>\n",
       "    <tr>\n",
       "      <th>2</th>\n",
       "      <td>C103P64ThinF</td>\n",
       "      <td>['C103P64ThinF_IMG_20150918_164250_cell_170.png'</td>\n",
       "      <td>'C103P64ThinF_IMG_20150918_164250_cell_171.png'</td>\n",
       "      <td>'C103P64ThinF_IMG_20150918_164250_cell_172.png'</td>\n",
       "      <td>'C103P64ThinF_IMG_20150918_164250_cell_173.png'</td>\n",
       "      <td>'C103P64ThinF_IMG_20150918_164250_cell_174.png'</td>\n",
       "      <td>'C103P64ThinF_IMG_20150918_164250_cell_175.png'</td>\n",
       "      <td>'C103P64ThinF_IMG_20150918_164331_cell_184.png'</td>\n",
       "      <td>'C103P64ThinF_IMG_20150918_164331_cell_185.png'</td>\n",
       "      <td>'C103P64ThinF_IMG_20150918_164331_cell_186.png'</td>\n",
       "      <td>...</td>\n",
       "      <td>NaN</td>\n",
       "      <td>NaN</td>\n",
       "      <td>NaN</td>\n",
       "      <td>NaN</td>\n",
       "      <td>NaN</td>\n",
       "      <td>NaN</td>\n",
       "      <td>NaN</td>\n",
       "      <td>NaN</td>\n",
       "      <td>NaN</td>\n",
       "      <td>NaN</td>\n",
       "    </tr>\n",
       "    <tr>\n",
       "      <th>3</th>\n",
       "      <td>C104P65ThinF</td>\n",
       "      <td>['C104P65ThinF_IMG_20150918_170850_cell_204.png'</td>\n",
       "      <td>'C104P65ThinF_IMG_20150918_171154_cell_212.png'</td>\n",
       "      <td>'C104P65ThinF_IMG_20150918_171154_cell_213.png'</td>\n",
       "      <td>'C104P65ThinF_IMG_20150918_171751_cell_186.png'</td>\n",
       "      <td>'C104P65ThinF_IMG_20150918_171751_cell_187.png'</td>\n",
       "      <td>'C104P65ThinF_IMG_20150918_172053_cell_187.png'</td>\n",
       "      <td>'C104P65ThinF_IMG_20150918_172537_cell_149.png'</td>\n",
       "      <td>'C104P65ThinF_IMG_20150918_172639_cell_182.png'</td>\n",
       "      <td>'C104P65ThinF_IMG_20150918_172639_cell_183.png'</td>\n",
       "      <td>...</td>\n",
       "      <td>NaN</td>\n",
       "      <td>NaN</td>\n",
       "      <td>NaN</td>\n",
       "      <td>NaN</td>\n",
       "      <td>NaN</td>\n",
       "      <td>NaN</td>\n",
       "      <td>NaN</td>\n",
       "      <td>NaN</td>\n",
       "      <td>NaN</td>\n",
       "      <td>NaN</td>\n",
       "    </tr>\n",
       "    <tr>\n",
       "      <th>4</th>\n",
       "      <td>C105P66ThinF</td>\n",
       "      <td>['C105P66ThinF_IMG_20150924_094800_cell_136.png'</td>\n",
       "      <td>'C105P66ThinF_IMG_20150924_094800_cell_137.png'</td>\n",
       "      <td>'C105P66ThinF_IMG_20150924_095034_cell_148.png'</td>\n",
       "      <td>'C105P66ThinF_IMG_20150924_095034_cell_149.png'</td>\n",
       "      <td>'C105P66ThinF_IMG_20150924_095034_cell_150.png'</td>\n",
       "      <td>'C105P66ThinF_IMG_20150924_095130_cell_155.png'</td>\n",
       "      <td>'C105P66ThinF_IMG_20150924_095130_cell_156.png'</td>\n",
       "      <td>'C105P66ThinF_IMG_20150924_095130_cell_157.png'</td>\n",
       "      <td>'C105P66ThinF_IMG_20150924_095130_cell_158.png'</td>\n",
       "      <td>...</td>\n",
       "      <td>NaN</td>\n",
       "      <td>NaN</td>\n",
       "      <td>NaN</td>\n",
       "      <td>NaN</td>\n",
       "      <td>NaN</td>\n",
       "      <td>NaN</td>\n",
       "      <td>NaN</td>\n",
       "      <td>NaN</td>\n",
       "      <td>NaN</td>\n",
       "      <td>NaN</td>\n",
       "    </tr>\n",
       "  </tbody>\n",
       "</table>\n",
       "<p>5 rows × 634 columns</p>\n",
       "</div>"
      ],
      "text/plain": [
       "   C100P61ThinF  ['C100P61ThinF_IMG_20150918_144104_cell_162.png'  \\\n",
       "0  C101P62ThinF   ['C101P62ThinF_IMG_20150918_151006_cell_61.png'   \n",
       "1  C102P63ThinF  ['C102P63ThinF_IMG_20150918_161508_cell_190.png'   \n",
       "2  C103P64ThinF  ['C103P64ThinF_IMG_20150918_164250_cell_170.png'   \n",
       "3  C104P65ThinF  ['C104P65ThinF_IMG_20150918_170850_cell_204.png'   \n",
       "4  C105P66ThinF  ['C105P66ThinF_IMG_20150924_094800_cell_136.png'   \n",
       "\n",
       "    'C100P61ThinF_IMG_20150918_144104_cell_163.png'  \\\n",
       "0    'C101P62ThinF_IMG_20150918_151006_cell_62.png'   \n",
       "1   'C102P63ThinF_IMG_20150918_161508_cell_191.png'   \n",
       "2   'C103P64ThinF_IMG_20150918_164250_cell_171.png'   \n",
       "3   'C104P65ThinF_IMG_20150918_171154_cell_212.png'   \n",
       "4   'C105P66ThinF_IMG_20150924_094800_cell_137.png'   \n",
       "\n",
       "    'C100P61ThinF_IMG_20150918_144104_cell_164.png'  \\\n",
       "0    'C101P62ThinF_IMG_20150918_151006_cell_63.png'   \n",
       "1   'C102P63ThinF_IMG_20150918_161508_cell_192.png'   \n",
       "2   'C103P64ThinF_IMG_20150918_164250_cell_172.png'   \n",
       "3   'C104P65ThinF_IMG_20150918_171154_cell_213.png'   \n",
       "4   'C105P66ThinF_IMG_20150924_095034_cell_148.png'   \n",
       "\n",
       "    'C100P61ThinF_IMG_20150918_144104_cell_165.png'  \\\n",
       "0    'C101P62ThinF_IMG_20150918_151006_cell_64.png'   \n",
       "1   'C102P63ThinF_IMG_20150918_161508_cell_193.png'   \n",
       "2   'C103P64ThinF_IMG_20150918_164250_cell_173.png'   \n",
       "3   'C104P65ThinF_IMG_20150918_171751_cell_186.png'   \n",
       "4   'C105P66ThinF_IMG_20150924_095034_cell_149.png'   \n",
       "\n",
       "    'C100P61ThinF_IMG_20150918_144104_cell_166.png'  \\\n",
       "0    'C101P62ThinF_IMG_20150918_151006_cell_65.png'   \n",
       "1   'C102P63ThinF_IMG_20150918_161508_cell_194.png'   \n",
       "2   'C103P64ThinF_IMG_20150918_164250_cell_174.png'   \n",
       "3   'C104P65ThinF_IMG_20150918_171751_cell_187.png'   \n",
       "4   'C105P66ThinF_IMG_20150924_095034_cell_150.png'   \n",
       "\n",
       "    'C100P61ThinF_IMG_20150918_144104_cell_167.png'  \\\n",
       "0    'C101P62ThinF_IMG_20150918_151006_cell_66.png'   \n",
       "1   'C102P63ThinF_IMG_20150918_161508_cell_195.png'   \n",
       "2   'C103P64ThinF_IMG_20150918_164250_cell_175.png'   \n",
       "3   'C104P65ThinF_IMG_20150918_172053_cell_187.png'   \n",
       "4   'C105P66ThinF_IMG_20150924_095130_cell_155.png'   \n",
       "\n",
       "    'C100P61ThinF_IMG_20150918_144104_cell_168.png'  \\\n",
       "0    'C101P62ThinF_IMG_20150918_151006_cell_67.png'   \n",
       "1   'C102P63ThinF_IMG_20150918_161826_cell_170.png'   \n",
       "2   'C103P64ThinF_IMG_20150918_164331_cell_184.png'   \n",
       "3   'C104P65ThinF_IMG_20150918_172537_cell_149.png'   \n",
       "4   'C105P66ThinF_IMG_20150924_095130_cell_156.png'   \n",
       "\n",
       "    'C100P61ThinF_IMG_20150918_144104_cell_169.png'  \\\n",
       "0    'C101P62ThinF_IMG_20150918_151006_cell_68.png'   \n",
       "1   'C102P63ThinF_IMG_20150918_161826_cell_171.png'   \n",
       "2   'C103P64ThinF_IMG_20150918_164331_cell_185.png'   \n",
       "3   'C104P65ThinF_IMG_20150918_172639_cell_182.png'   \n",
       "4   'C105P66ThinF_IMG_20150924_095130_cell_157.png'   \n",
       "\n",
       "    'C100P61ThinF_IMG_20150918_144104_cell_170.png'  ... Unnamed: 624  \\\n",
       "0    'C101P62ThinF_IMG_20150918_151006_cell_69.png'  ...          NaN   \n",
       "1   'C102P63ThinF_IMG_20150918_161826_cell_172.png'  ...          NaN   \n",
       "2   'C103P64ThinF_IMG_20150918_164331_cell_186.png'  ...          NaN   \n",
       "3   'C104P65ThinF_IMG_20150918_172639_cell_183.png'  ...          NaN   \n",
       "4   'C105P66ThinF_IMG_20150924_095130_cell_158.png'  ...          NaN   \n",
       "\n",
       "  Unnamed: 625 Unnamed: 626 Unnamed: 627 Unnamed: 628 Unnamed: 629  \\\n",
       "0          NaN          NaN          NaN          NaN          NaN   \n",
       "1          NaN          NaN          NaN          NaN          NaN   \n",
       "2          NaN          NaN          NaN          NaN          NaN   \n",
       "3          NaN          NaN          NaN          NaN          NaN   \n",
       "4          NaN          NaN          NaN          NaN          NaN   \n",
       "\n",
       "  Unnamed: 630 Unnamed: 631 Unnamed: 632 Unnamed: 633  \n",
       "0          NaN          NaN          NaN          NaN  \n",
       "1          NaN          NaN          NaN          NaN  \n",
       "2          NaN          NaN          NaN          NaN  \n",
       "3          NaN          NaN          NaN          NaN  \n",
       "4          NaN          NaN          NaN          NaN  \n",
       "\n",
       "[5 rows x 634 columns]"
      ]
     },
     "execution_count": 11,
     "metadata": {},
     "output_type": "execute_result"
    }
   ],
   "source": [
    "parasited.head()\n"
   ]
  },
  {
   "cell_type": "code",
   "execution_count": 12,
   "metadata": {},
   "outputs": [
    {
     "data": {
      "text/plain": [
       "(150, 634)"
      ]
     },
     "execution_count": 12,
     "metadata": {},
     "output_type": "execute_result"
    }
   ],
   "source": [
    "parasited.shape"
   ]
  },
  {
   "cell_type": "code",
   "execution_count": 13,
   "metadata": {},
   "outputs": [
    {
     "data": {
      "text/html": [
       "<div>\n",
       "<style scoped>\n",
       "    .dataframe tbody tr th:only-of-type {\n",
       "        vertical-align: middle;\n",
       "    }\n",
       "\n",
       "    .dataframe tbody tr th {\n",
       "        vertical-align: top;\n",
       "    }\n",
       "\n",
       "    .dataframe thead th {\n",
       "        text-align: right;\n",
       "    }\n",
       "</style>\n",
       "<table border=\"1\" class=\"dataframe\">\n",
       "  <thead>\n",
       "    <tr style=\"text-align: right;\">\n",
       "      <th></th>\n",
       "      <th>C100P61ThinF</th>\n",
       "      <th>['C100P61ThinF_IMG_20150918_144104_cell_128.png'</th>\n",
       "      <th>'C100P61ThinF_IMG_20150918_144104_cell_131.png'</th>\n",
       "      <th>'C100P61ThinF_IMG_20150918_144104_cell_144.png'</th>\n",
       "      <th>'C100P61ThinF_IMG_20150918_144104_cell_21.png'</th>\n",
       "      <th>'C100P61ThinF_IMG_20150918_144104_cell_25.png'</th>\n",
       "      <th>'C100P61ThinF_IMG_20150918_144104_cell_34.png'</th>\n",
       "      <th>'C100P61ThinF_IMG_20150918_144104_cell_48.png'</th>\n",
       "      <th>'C100P61ThinF_IMG_20150918_144104_cell_65.png'</th>\n",
       "      <th>'C100P61ThinF_IMG_20150918_144348_cell_108.png'</th>\n",
       "      <th>...</th>\n",
       "      <th>'C100P61ThinF_IMG_20150918_150041_cell_76.png']</th>\n",
       "      <th>Unnamed: 69</th>\n",
       "      <th>Unnamed: 70</th>\n",
       "      <th>Unnamed: 71</th>\n",
       "      <th>Unnamed: 72</th>\n",
       "      <th>Unnamed: 73</th>\n",
       "      <th>Unnamed: 74</th>\n",
       "      <th>Unnamed: 75</th>\n",
       "      <th>Unnamed: 76</th>\n",
       "      <th>Unnamed: 77</th>\n",
       "    </tr>\n",
       "  </thead>\n",
       "  <tbody>\n",
       "    <tr>\n",
       "      <th>0</th>\n",
       "      <td>C101P62ThinF</td>\n",
       "      <td>['C101P62ThinF_IMG_20150918_151006_cell_17.png'</td>\n",
       "      <td>'C101P62ThinF_IMG_20150918_151006_cell_29.png'</td>\n",
       "      <td>'C101P62ThinF_IMG_20150918_151006_cell_32.png'</td>\n",
       "      <td>'C101P62ThinF_IMG_20150918_151006_cell_53.png'</td>\n",
       "      <td>'C101P62ThinF_IMG_20150918_151006_cell_56.png'</td>\n",
       "      <td>'C101P62ThinF_IMG_20150918_151006_cell_59.png'</td>\n",
       "      <td>'C101P62ThinF_IMG_20150918_151006_cell_8.png'</td>\n",
       "      <td>'C101P62ThinF_IMG_20150918_151149_cell_23.png'</td>\n",
       "      <td>'C101P62ThinF_IMG_20150918_151149_cell_28.png'</td>\n",
       "      <td>...</td>\n",
       "      <td>'C101P62ThinF_IMG_20150923_170344_cell_61.png'</td>\n",
       "      <td>'C101P62ThinF_IMG_20150923_170344_cell_66.png'</td>\n",
       "      <td>'C101P62ThinF_IMG_20150923_170344_cell_69.png'</td>\n",
       "      <td>'C101P62ThinF_IMG_20150923_170344_cell_70.png']</td>\n",
       "      <td>NaN</td>\n",
       "      <td>NaN</td>\n",
       "      <td>NaN</td>\n",
       "      <td>NaN</td>\n",
       "      <td>NaN</td>\n",
       "      <td>NaN</td>\n",
       "    </tr>\n",
       "    <tr>\n",
       "      <th>1</th>\n",
       "      <td>C102P63ThinF</td>\n",
       "      <td>['C102P63ThinF_IMG_20150918_161508_cell_101.png'</td>\n",
       "      <td>'C102P63ThinF_IMG_20150918_161508_cell_113.png'</td>\n",
       "      <td>'C102P63ThinF_IMG_20150918_161508_cell_133.png'</td>\n",
       "      <td>'C102P63ThinF_IMG_20150918_161508_cell_14.png'</td>\n",
       "      <td>'C102P63ThinF_IMG_20150918_161508_cell_143.png'</td>\n",
       "      <td>'C102P63ThinF_IMG_20150918_161508_cell_150.png'</td>\n",
       "      <td>'C102P63ThinF_IMG_20150918_161508_cell_172.png'</td>\n",
       "      <td>'C102P63ThinF_IMG_20150918_161508_cell_175.png'</td>\n",
       "      <td>'C102P63ThinF_IMG_20150918_161508_cell_37.png'</td>\n",
       "      <td>...</td>\n",
       "      <td>'C102P63ThinF_IMG_20150918_163054_cell_87.png']</td>\n",
       "      <td>NaN</td>\n",
       "      <td>NaN</td>\n",
       "      <td>NaN</td>\n",
       "      <td>NaN</td>\n",
       "      <td>NaN</td>\n",
       "      <td>NaN</td>\n",
       "      <td>NaN</td>\n",
       "      <td>NaN</td>\n",
       "      <td>NaN</td>\n",
       "    </tr>\n",
       "    <tr>\n",
       "      <th>2</th>\n",
       "      <td>C103P64ThinF</td>\n",
       "      <td>['C103P64ThinF_IMG_20150918_164250_cell_121.png'</td>\n",
       "      <td>'C103P64ThinF_IMG_20150918_164250_cell_128.png'</td>\n",
       "      <td>'C103P64ThinF_IMG_20150918_164250_cell_15.png'</td>\n",
       "      <td>'C103P64ThinF_IMG_20150918_164250_cell_153.png'</td>\n",
       "      <td>'C103P64ThinF_IMG_20150918_164250_cell_164.png'</td>\n",
       "      <td>'C103P64ThinF_IMG_20150918_164250_cell_19.png'</td>\n",
       "      <td>'C103P64ThinF_IMG_20150918_164250_cell_28.png'</td>\n",
       "      <td>'C103P64ThinF_IMG_20150918_164250_cell_39.png'</td>\n",
       "      <td>'C103P64ThinF_IMG_20150918_164250_cell_67.png'</td>\n",
       "      <td>...</td>\n",
       "      <td>'C103P64ThinF_IMG_20150918_165510_cell_98.png']</td>\n",
       "      <td>NaN</td>\n",
       "      <td>NaN</td>\n",
       "      <td>NaN</td>\n",
       "      <td>NaN</td>\n",
       "      <td>NaN</td>\n",
       "      <td>NaN</td>\n",
       "      <td>NaN</td>\n",
       "      <td>NaN</td>\n",
       "      <td>NaN</td>\n",
       "    </tr>\n",
       "    <tr>\n",
       "      <th>3</th>\n",
       "      <td>C104P65ThinF</td>\n",
       "      <td>['C104P65ThinF_IMG_20150918_170850_cell_140.png'</td>\n",
       "      <td>'C104P65ThinF_IMG_20150918_170850_cell_167.png'</td>\n",
       "      <td>'C104P65ThinF_IMG_20150918_170850_cell_174.png'</td>\n",
       "      <td>'C104P65ThinF_IMG_20150918_170850_cell_189.png'</td>\n",
       "      <td>'C104P65ThinF_IMG_20150918_170850_cell_29.png'</td>\n",
       "      <td>'C104P65ThinF_IMG_20150918_170850_cell_32.png'</td>\n",
       "      <td>'C104P65ThinF_IMG_20150918_170850_cell_66.png'</td>\n",
       "      <td>'C104P65ThinF_IMG_20150918_170850_cell_68.png'</td>\n",
       "      <td>'C104P65ThinF_IMG_20150918_170850_cell_83.png'</td>\n",
       "      <td>...</td>\n",
       "      <td>'C104P65ThinF_IMG_20150918_172639_cell_34.png'</td>\n",
       "      <td>'C104P65ThinF_IMG_20150918_172639_cell_44.png'</td>\n",
       "      <td>'C104P65ThinF_IMG_20150918_172639_cell_5.png'</td>\n",
       "      <td>'C104P65ThinF_IMG_20150918_172639_cell_93.png'</td>\n",
       "      <td>'C104P65ThinF_IMG_20150918_172639_cell_95.png']</td>\n",
       "      <td>NaN</td>\n",
       "      <td>NaN</td>\n",
       "      <td>NaN</td>\n",
       "      <td>NaN</td>\n",
       "      <td>NaN</td>\n",
       "    </tr>\n",
       "    <tr>\n",
       "      <th>4</th>\n",
       "      <td>C105P66ThinF</td>\n",
       "      <td>['C105P66ThinF_IMG_20150924_094800_cell_11.png'</td>\n",
       "      <td>'C105P66ThinF_IMG_20150924_094800_cell_132.png'</td>\n",
       "      <td>'C105P66ThinF_IMG_20150924_094800_cell_30.png'</td>\n",
       "      <td>'C105P66ThinF_IMG_20150924_094800_cell_39.png'</td>\n",
       "      <td>'C105P66ThinF_IMG_20150924_094800_cell_62.png'</td>\n",
       "      <td>'C105P66ThinF_IMG_20150924_094800_cell_63.png'</td>\n",
       "      <td>'C105P66ThinF_IMG_20150924_094800_cell_70.png'</td>\n",
       "      <td>'C105P66ThinF_IMG_20150924_094800_cell_74.png'</td>\n",
       "      <td>'C105P66ThinF_IMG_20150924_094800_cell_90.png'</td>\n",
       "      <td>...</td>\n",
       "      <td>'C105P66ThinF_IMG_20150924_100655_cell_96.png']</td>\n",
       "      <td>NaN</td>\n",
       "      <td>NaN</td>\n",
       "      <td>NaN</td>\n",
       "      <td>NaN</td>\n",
       "      <td>NaN</td>\n",
       "      <td>NaN</td>\n",
       "      <td>NaN</td>\n",
       "      <td>NaN</td>\n",
       "      <td>NaN</td>\n",
       "    </tr>\n",
       "  </tbody>\n",
       "</table>\n",
       "<p>5 rows × 78 columns</p>\n",
       "</div>"
      ],
      "text/plain": [
       "   C100P61ThinF  ['C100P61ThinF_IMG_20150918_144104_cell_128.png'  \\\n",
       "0  C101P62ThinF   ['C101P62ThinF_IMG_20150918_151006_cell_17.png'   \n",
       "1  C102P63ThinF  ['C102P63ThinF_IMG_20150918_161508_cell_101.png'   \n",
       "2  C103P64ThinF  ['C103P64ThinF_IMG_20150918_164250_cell_121.png'   \n",
       "3  C104P65ThinF  ['C104P65ThinF_IMG_20150918_170850_cell_140.png'   \n",
       "4  C105P66ThinF   ['C105P66ThinF_IMG_20150924_094800_cell_11.png'   \n",
       "\n",
       "    'C100P61ThinF_IMG_20150918_144104_cell_131.png'  \\\n",
       "0    'C101P62ThinF_IMG_20150918_151006_cell_29.png'   \n",
       "1   'C102P63ThinF_IMG_20150918_161508_cell_113.png'   \n",
       "2   'C103P64ThinF_IMG_20150918_164250_cell_128.png'   \n",
       "3   'C104P65ThinF_IMG_20150918_170850_cell_167.png'   \n",
       "4   'C105P66ThinF_IMG_20150924_094800_cell_132.png'   \n",
       "\n",
       "    'C100P61ThinF_IMG_20150918_144104_cell_144.png'  \\\n",
       "0    'C101P62ThinF_IMG_20150918_151006_cell_32.png'   \n",
       "1   'C102P63ThinF_IMG_20150918_161508_cell_133.png'   \n",
       "2    'C103P64ThinF_IMG_20150918_164250_cell_15.png'   \n",
       "3   'C104P65ThinF_IMG_20150918_170850_cell_174.png'   \n",
       "4    'C105P66ThinF_IMG_20150924_094800_cell_30.png'   \n",
       "\n",
       "     'C100P61ThinF_IMG_20150918_144104_cell_21.png'  \\\n",
       "0    'C101P62ThinF_IMG_20150918_151006_cell_53.png'   \n",
       "1    'C102P63ThinF_IMG_20150918_161508_cell_14.png'   \n",
       "2   'C103P64ThinF_IMG_20150918_164250_cell_153.png'   \n",
       "3   'C104P65ThinF_IMG_20150918_170850_cell_189.png'   \n",
       "4    'C105P66ThinF_IMG_20150924_094800_cell_39.png'   \n",
       "\n",
       "     'C100P61ThinF_IMG_20150918_144104_cell_25.png'  \\\n",
       "0    'C101P62ThinF_IMG_20150918_151006_cell_56.png'   \n",
       "1   'C102P63ThinF_IMG_20150918_161508_cell_143.png'   \n",
       "2   'C103P64ThinF_IMG_20150918_164250_cell_164.png'   \n",
       "3    'C104P65ThinF_IMG_20150918_170850_cell_29.png'   \n",
       "4    'C105P66ThinF_IMG_20150924_094800_cell_62.png'   \n",
       "\n",
       "     'C100P61ThinF_IMG_20150918_144104_cell_34.png'  \\\n",
       "0    'C101P62ThinF_IMG_20150918_151006_cell_59.png'   \n",
       "1   'C102P63ThinF_IMG_20150918_161508_cell_150.png'   \n",
       "2    'C103P64ThinF_IMG_20150918_164250_cell_19.png'   \n",
       "3    'C104P65ThinF_IMG_20150918_170850_cell_32.png'   \n",
       "4    'C105P66ThinF_IMG_20150924_094800_cell_63.png'   \n",
       "\n",
       "     'C100P61ThinF_IMG_20150918_144104_cell_48.png'  \\\n",
       "0     'C101P62ThinF_IMG_20150918_151006_cell_8.png'   \n",
       "1   'C102P63ThinF_IMG_20150918_161508_cell_172.png'   \n",
       "2    'C103P64ThinF_IMG_20150918_164250_cell_28.png'   \n",
       "3    'C104P65ThinF_IMG_20150918_170850_cell_66.png'   \n",
       "4    'C105P66ThinF_IMG_20150924_094800_cell_70.png'   \n",
       "\n",
       "     'C100P61ThinF_IMG_20150918_144104_cell_65.png'  \\\n",
       "0    'C101P62ThinF_IMG_20150918_151149_cell_23.png'   \n",
       "1   'C102P63ThinF_IMG_20150918_161508_cell_175.png'   \n",
       "2    'C103P64ThinF_IMG_20150918_164250_cell_39.png'   \n",
       "3    'C104P65ThinF_IMG_20150918_170850_cell_68.png'   \n",
       "4    'C105P66ThinF_IMG_20150924_094800_cell_74.png'   \n",
       "\n",
       "   'C100P61ThinF_IMG_20150918_144348_cell_108.png'  ...  \\\n",
       "0   'C101P62ThinF_IMG_20150918_151149_cell_28.png'  ...   \n",
       "1   'C102P63ThinF_IMG_20150918_161508_cell_37.png'  ...   \n",
       "2   'C103P64ThinF_IMG_20150918_164250_cell_67.png'  ...   \n",
       "3   'C104P65ThinF_IMG_20150918_170850_cell_83.png'  ...   \n",
       "4   'C105P66ThinF_IMG_20150924_094800_cell_90.png'  ...   \n",
       "\n",
       "    'C100P61ThinF_IMG_20150918_150041_cell_76.png']  \\\n",
       "0    'C101P62ThinF_IMG_20150923_170344_cell_61.png'   \n",
       "1   'C102P63ThinF_IMG_20150918_163054_cell_87.png']   \n",
       "2   'C103P64ThinF_IMG_20150918_165510_cell_98.png']   \n",
       "3    'C104P65ThinF_IMG_20150918_172639_cell_34.png'   \n",
       "4   'C105P66ThinF_IMG_20150924_100655_cell_96.png']   \n",
       "\n",
       "                                       Unnamed: 69  \\\n",
       "0   'C101P62ThinF_IMG_20150923_170344_cell_66.png'   \n",
       "1                                              NaN   \n",
       "2                                              NaN   \n",
       "3   'C104P65ThinF_IMG_20150918_172639_cell_44.png'   \n",
       "4                                              NaN   \n",
       "\n",
       "                                       Unnamed: 70  \\\n",
       "0   'C101P62ThinF_IMG_20150923_170344_cell_69.png'   \n",
       "1                                              NaN   \n",
       "2                                              NaN   \n",
       "3    'C104P65ThinF_IMG_20150918_172639_cell_5.png'   \n",
       "4                                              NaN   \n",
       "\n",
       "                                        Unnamed: 71  \\\n",
       "0   'C101P62ThinF_IMG_20150923_170344_cell_70.png']   \n",
       "1                                               NaN   \n",
       "2                                               NaN   \n",
       "3    'C104P65ThinF_IMG_20150918_172639_cell_93.png'   \n",
       "4                                               NaN   \n",
       "\n",
       "                                        Unnamed: 72 Unnamed: 73 Unnamed: 74  \\\n",
       "0                                               NaN         NaN         NaN   \n",
       "1                                               NaN         NaN         NaN   \n",
       "2                                               NaN         NaN         NaN   \n",
       "3   'C104P65ThinF_IMG_20150918_172639_cell_95.png']         NaN         NaN   \n",
       "4                                               NaN         NaN         NaN   \n",
       "\n",
       "  Unnamed: 75 Unnamed: 76 Unnamed: 77  \n",
       "0         NaN         NaN         NaN  \n",
       "1         NaN         NaN         NaN  \n",
       "2         NaN         NaN         NaN  \n",
       "3         NaN         NaN         NaN  \n",
       "4         NaN         NaN         NaN  \n",
       "\n",
       "[5 rows x 78 columns]"
      ]
     },
     "execution_count": 13,
     "metadata": {},
     "output_type": "execute_result"
    }
   ],
   "source": [
    "uninfected.head()\n"
   ]
  },
  {
   "cell_type": "code",
   "execution_count": 14,
   "metadata": {},
   "outputs": [
    {
     "data": {
      "text/plain": [
       "(200, 78)"
      ]
     },
     "execution_count": 14,
     "metadata": {},
     "output_type": "execute_result"
    }
   ],
   "source": [
    "uninfected.shape"
   ]
  },
  {
   "cell_type": "markdown",
   "metadata": {},
   "source": [
    "For both datasets each row represents an individual and the columns represent cell images from that individual."
   ]
  },
  {
   "cell_type": "markdown",
   "metadata": {},
   "source": [
    "First we remove the first column"
   ]
  },
  {
   "cell_type": "markdown",
   "metadata": {},
   "source": [
    "Then we can do:\n",
    "- put all the image names in one single column and then add another column with with the label \n",
    "- After that we can join both uninfected and infected dataframes.\n",
    "\n",
    "We can then: \n",
    "- \"Shuffle\" the rows (can use: from sklearn.utils import shuffle)\n",
    "- Then sample the dataframe for the training and the test datasets."
   ]
  },
  {
   "cell_type": "code",
   "execution_count": 17,
   "metadata": {
    "scrolled": true
   },
   "outputs": [
    {
     "data": {
      "text/plain": [
       "0      C101P62ThinF\n",
       "1      C102P63ThinF\n",
       "2      C103P64ThinF\n",
       "3      C104P65ThinF\n",
       "4      C105P66ThinF\n",
       "           ...     \n",
       "195     C95P56ThinF\n",
       "196     C96P57ThinF\n",
       "197     C97P58ThinF\n",
       "198     C98P59ThinF\n",
       "199     C99P60ThinF\n",
       "Name: C100P61ThinF, Length: 200, dtype: object"
      ]
     },
     "execution_count": 17,
     "metadata": {},
     "output_type": "execute_result"
    }
   ],
   "source": [
    "uninfected.iloc[:,0]"
   ]
  },
  {
   "cell_type": "code",
   "execution_count": 3,
   "metadata": {},
   "outputs": [],
   "source": [
    "uninfected_new=uninfected.iloc[:, 1:]"
   ]
  },
  {
   "cell_type": "code",
   "execution_count": 4,
   "metadata": {},
   "outputs": [],
   "source": [
    "parasited_new=parasited.iloc[:, 1:]"
   ]
  },
  {
   "cell_type": "code",
   "execution_count": 5,
   "metadata": {},
   "outputs": [],
   "source": [
    "#now we create a vector of both of them:\n",
    "uninfected_new = np.asarray(uninfected_new)\n",
    "parasited_new = np.asarray(parasited_new)"
   ]
  },
  {
   "cell_type": "code",
   "execution_count": 27,
   "metadata": {},
   "outputs": [
    {
     "data": {
      "text/plain": [
       "array([[\"['C101P62ThinF_IMG_20150918_151006_cell_17.png'\",\n",
       "        \" 'C101P62ThinF_IMG_20150918_151006_cell_29.png'\",\n",
       "        \" 'C101P62ThinF_IMG_20150918_151006_cell_32.png'\", ..., nan, nan,\n",
       "        nan],\n",
       "       [\"['C102P63ThinF_IMG_20150918_161508_cell_101.png'\",\n",
       "        \" 'C102P63ThinF_IMG_20150918_161508_cell_113.png'\",\n",
       "        \" 'C102P63ThinF_IMG_20150918_161508_cell_133.png'\", ..., nan,\n",
       "        nan, nan],\n",
       "       [\"['C103P64ThinF_IMG_20150918_164250_cell_121.png'\",\n",
       "        \" 'C103P64ThinF_IMG_20150918_164250_cell_128.png'\",\n",
       "        \" 'C103P64ThinF_IMG_20150918_164250_cell_15.png'\", ..., nan, nan,\n",
       "        nan],\n",
       "       ...,\n",
       "       [\"['C97P58ThinF_IMG_20150917_145555_cell_103.png'\",\n",
       "        \" 'C97P58ThinF_IMG_20150917_145555_cell_12.png'\",\n",
       "        \" 'C97P58ThinF_IMG_20150917_145555_cell_122.png'\", ..., nan, nan,\n",
       "        nan],\n",
       "       [\"['C98P59ThinF_IMG_20150917_153030_cell_120.png'\",\n",
       "        \" 'C98P59ThinF_IMG_20150917_153030_cell_136.png'\",\n",
       "        \" 'C98P59ThinF_IMG_20150917_153030_cell_144.png'\", ..., nan, nan,\n",
       "        nan],\n",
       "       [\"['C99P60ThinF_IMG_20150918_140900_cell_24.png'\",\n",
       "        \" 'C99P60ThinF_IMG_20150918_140900_cell_34.png'\",\n",
       "        \" 'C99P60ThinF_IMG_20150918_140900_cell_41.png'\", ..., nan, nan,\n",
       "        nan]], dtype=object)"
      ]
     },
     "execution_count": 27,
     "metadata": {},
     "output_type": "execute_result"
    }
   ],
   "source": [
    "uninfected_new"
   ]
  },
  {
   "cell_type": "code",
   "execution_count": 6,
   "metadata": {},
   "outputs": [],
   "source": [
    "#convert to a one dimensional array:\n",
    "lab_uninfected=pd.DataFrame(uninfected_new.flatten())"
   ]
  },
  {
   "cell_type": "code",
   "execution_count": 7,
   "metadata": {},
   "outputs": [
    {
     "data": {
      "text/html": [
       "<div>\n",
       "<style scoped>\n",
       "    .dataframe tbody tr th:only-of-type {\n",
       "        vertical-align: middle;\n",
       "    }\n",
       "\n",
       "    .dataframe tbody tr th {\n",
       "        vertical-align: top;\n",
       "    }\n",
       "\n",
       "    .dataframe thead th {\n",
       "        text-align: right;\n",
       "    }\n",
       "</style>\n",
       "<table border=\"1\" class=\"dataframe\">\n",
       "  <thead>\n",
       "    <tr style=\"text-align: right;\">\n",
       "      <th></th>\n",
       "      <th>0</th>\n",
       "    </tr>\n",
       "  </thead>\n",
       "  <tbody>\n",
       "    <tr>\n",
       "      <th>0</th>\n",
       "      <td>['C101P62ThinF_IMG_20150918_151006_cell_17.png'</td>\n",
       "    </tr>\n",
       "    <tr>\n",
       "      <th>1</th>\n",
       "      <td>'C101P62ThinF_IMG_20150918_151006_cell_29.png'</td>\n",
       "    </tr>\n",
       "    <tr>\n",
       "      <th>2</th>\n",
       "      <td>'C101P62ThinF_IMG_20150918_151006_cell_32.png'</td>\n",
       "    </tr>\n",
       "    <tr>\n",
       "      <th>3</th>\n",
       "      <td>'C101P62ThinF_IMG_20150918_151006_cell_53.png'</td>\n",
       "    </tr>\n",
       "    <tr>\n",
       "      <th>4</th>\n",
       "      <td>'C101P62ThinF_IMG_20150918_151006_cell_56.png'</td>\n",
       "    </tr>\n",
       "  </tbody>\n",
       "</table>\n",
       "</div>"
      ],
      "text/plain": [
       "                                                 0\n",
       "0  ['C101P62ThinF_IMG_20150918_151006_cell_17.png'\n",
       "1   'C101P62ThinF_IMG_20150918_151006_cell_29.png'\n",
       "2   'C101P62ThinF_IMG_20150918_151006_cell_32.png'\n",
       "3   'C101P62ThinF_IMG_20150918_151006_cell_53.png'\n",
       "4   'C101P62ThinF_IMG_20150918_151006_cell_56.png'"
      ]
     },
     "execution_count": 7,
     "metadata": {},
     "output_type": "execute_result"
    }
   ],
   "source": [
    "lab_uninfected.head()"
   ]
  },
  {
   "cell_type": "code",
   "execution_count": 8,
   "metadata": {
    "scrolled": false
   },
   "outputs": [
    {
     "data": {
      "text/html": [
       "<div>\n",
       "<style scoped>\n",
       "    .dataframe tbody tr th:only-of-type {\n",
       "        vertical-align: middle;\n",
       "    }\n",
       "\n",
       "    .dataframe tbody tr th {\n",
       "        vertical-align: top;\n",
       "    }\n",
       "\n",
       "    .dataframe thead th {\n",
       "        text-align: right;\n",
       "    }\n",
       "</style>\n",
       "<table border=\"1\" class=\"dataframe\">\n",
       "  <thead>\n",
       "    <tr style=\"text-align: right;\">\n",
       "      <th></th>\n",
       "      <th>0</th>\n",
       "      <th>infect_status</th>\n",
       "    </tr>\n",
       "  </thead>\n",
       "  <tbody>\n",
       "    <tr>\n",
       "      <th>0</th>\n",
       "      <td>['C101P62ThinF_IMG_20150918_151006_cell_17.png'</td>\n",
       "      <td>0</td>\n",
       "    </tr>\n",
       "    <tr>\n",
       "      <th>1</th>\n",
       "      <td>'C101P62ThinF_IMG_20150918_151006_cell_29.png'</td>\n",
       "      <td>0</td>\n",
       "    </tr>\n",
       "    <tr>\n",
       "      <th>2</th>\n",
       "      <td>'C101P62ThinF_IMG_20150918_151006_cell_32.png'</td>\n",
       "      <td>0</td>\n",
       "    </tr>\n",
       "    <tr>\n",
       "      <th>3</th>\n",
       "      <td>'C101P62ThinF_IMG_20150918_151006_cell_53.png'</td>\n",
       "      <td>0</td>\n",
       "    </tr>\n",
       "    <tr>\n",
       "      <th>4</th>\n",
       "      <td>'C101P62ThinF_IMG_20150918_151006_cell_56.png'</td>\n",
       "      <td>0</td>\n",
       "    </tr>\n",
       "  </tbody>\n",
       "</table>\n",
       "</div>"
      ],
      "text/plain": [
       "                                                 0  infect_status\n",
       "0  ['C101P62ThinF_IMG_20150918_151006_cell_17.png'              0\n",
       "1   'C101P62ThinF_IMG_20150918_151006_cell_29.png'              0\n",
       "2   'C101P62ThinF_IMG_20150918_151006_cell_32.png'              0\n",
       "3   'C101P62ThinF_IMG_20150918_151006_cell_53.png'              0\n",
       "4   'C101P62ThinF_IMG_20150918_151006_cell_56.png'              0"
      ]
     },
     "execution_count": 8,
     "metadata": {},
     "output_type": "execute_result"
    }
   ],
   "source": [
    "#add column with label:\n",
    "lab_uninfected[\"infect_status\"]=0\n",
    "lab_uninfected.head()"
   ]
  },
  {
   "cell_type": "code",
   "execution_count": 9,
   "metadata": {},
   "outputs": [
    {
     "data": {
      "text/plain": [
       "(15400, 2)"
      ]
     },
     "execution_count": 9,
     "metadata": {},
     "output_type": "execute_result"
    }
   ],
   "source": [
    "lab_uninfected.shape"
   ]
  },
  {
   "cell_type": "markdown",
   "metadata": {},
   "source": [
    "Now we need to:\n",
    "- remove the square brackets \n",
    "- do the same with the parasited."
   ]
  },
  {
   "cell_type": "code",
   "execution_count": 10,
   "metadata": {},
   "outputs": [
    {
     "data": {
      "text/html": [
       "<div>\n",
       "<style scoped>\n",
       "    .dataframe tbody tr th:only-of-type {\n",
       "        vertical-align: middle;\n",
       "    }\n",
       "\n",
       "    .dataframe tbody tr th {\n",
       "        vertical-align: top;\n",
       "    }\n",
       "\n",
       "    .dataframe thead th {\n",
       "        text-align: right;\n",
       "    }\n",
       "</style>\n",
       "<table border=\"1\" class=\"dataframe\">\n",
       "  <thead>\n",
       "    <tr style=\"text-align: right;\">\n",
       "      <th></th>\n",
       "      <th>0</th>\n",
       "      <th>infect_status</th>\n",
       "    </tr>\n",
       "  </thead>\n",
       "  <tbody>\n",
       "    <tr>\n",
       "      <th>0</th>\n",
       "      <td>['C101P62ThinF_IMG_20150918_151006_cell_61.png'</td>\n",
       "      <td>1</td>\n",
       "    </tr>\n",
       "    <tr>\n",
       "      <th>1</th>\n",
       "      <td>'C101P62ThinF_IMG_20150918_151006_cell_62.png'</td>\n",
       "      <td>1</td>\n",
       "    </tr>\n",
       "    <tr>\n",
       "      <th>2</th>\n",
       "      <td>'C101P62ThinF_IMG_20150918_151006_cell_63.png'</td>\n",
       "      <td>1</td>\n",
       "    </tr>\n",
       "    <tr>\n",
       "      <th>3</th>\n",
       "      <td>'C101P62ThinF_IMG_20150918_151006_cell_64.png'</td>\n",
       "      <td>1</td>\n",
       "    </tr>\n",
       "    <tr>\n",
       "      <th>4</th>\n",
       "      <td>'C101P62ThinF_IMG_20150918_151006_cell_65.png'</td>\n",
       "      <td>1</td>\n",
       "    </tr>\n",
       "  </tbody>\n",
       "</table>\n",
       "</div>"
      ],
      "text/plain": [
       "                                                 0  infect_status\n",
       "0  ['C101P62ThinF_IMG_20150918_151006_cell_61.png'              1\n",
       "1   'C101P62ThinF_IMG_20150918_151006_cell_62.png'              1\n",
       "2   'C101P62ThinF_IMG_20150918_151006_cell_63.png'              1\n",
       "3   'C101P62ThinF_IMG_20150918_151006_cell_64.png'              1\n",
       "4   'C101P62ThinF_IMG_20150918_151006_cell_65.png'              1"
      ]
     },
     "execution_count": 10,
     "metadata": {},
     "output_type": "execute_result"
    }
   ],
   "source": [
    "#now for the parasited DF:\n",
    "##convert to a one dimensional array:\n",
    "lab_parasited=pd.DataFrame(parasited_new.flatten())\n",
    "##add one column with label:\n",
    "lab_parasited[\"infect_status\"]=1\n",
    "lab_parasited.head()"
   ]
  },
  {
   "cell_type": "code",
   "execution_count": 11,
   "metadata": {},
   "outputs": [
    {
     "data": {
      "text/plain": [
       "(94950, 2)"
      ]
     },
     "execution_count": 11,
     "metadata": {},
     "output_type": "execute_result"
    }
   ],
   "source": [
    "lab_parasited.shape"
   ]
  },
  {
   "cell_type": "markdown",
   "metadata": {},
   "source": [
    "this is a bit of a strange number ... aha! need to remove the NAs!!!From both dfs."
   ]
  },
  {
   "cell_type": "code",
   "execution_count": 12,
   "metadata": {},
   "outputs": [],
   "source": [
    "#remove NAs\n",
    "lab_parasited=lab_parasited.dropna()\n",
    "lab_uninfected=lab_uninfected.dropna()"
   ]
  },
  {
   "cell_type": "code",
   "execution_count": 13,
   "metadata": {},
   "outputs": [
    {
     "name": "stdout",
     "output_type": "stream",
     "text": [
      "(13711, 2) (13722, 2)\n"
     ]
    }
   ],
   "source": [
    "print(lab_uninfected.shape, lab_parasited.shape)"
   ]
  },
  {
   "cell_type": "code",
   "execution_count": 14,
   "metadata": {},
   "outputs": [
    {
     "data": {
      "text/html": [
       "<div>\n",
       "<style scoped>\n",
       "    .dataframe tbody tr th:only-of-type {\n",
       "        vertical-align: middle;\n",
       "    }\n",
       "\n",
       "    .dataframe tbody tr th {\n",
       "        vertical-align: top;\n",
       "    }\n",
       "\n",
       "    .dataframe thead th {\n",
       "        text-align: right;\n",
       "    }\n",
       "</style>\n",
       "<table border=\"1\" class=\"dataframe\">\n",
       "  <thead>\n",
       "    <tr style=\"text-align: right;\">\n",
       "      <th></th>\n",
       "      <th>0</th>\n",
       "      <th>infect_status</th>\n",
       "    </tr>\n",
       "  </thead>\n",
       "  <tbody>\n",
       "    <tr>\n",
       "      <th>0</th>\n",
       "      <td>C101P62ThinF_IMG_20150918_151006_cell_61.png</td>\n",
       "      <td>1</td>\n",
       "    </tr>\n",
       "    <tr>\n",
       "      <th>1</th>\n",
       "      <td>C101P62ThinF_IMG_20150918_151006_cell_62.png</td>\n",
       "      <td>1</td>\n",
       "    </tr>\n",
       "    <tr>\n",
       "      <th>2</th>\n",
       "      <td>C101P62ThinF_IMG_20150918_151006_cell_63.png</td>\n",
       "      <td>1</td>\n",
       "    </tr>\n",
       "    <tr>\n",
       "      <th>3</th>\n",
       "      <td>C101P62ThinF_IMG_20150918_151006_cell_64.png</td>\n",
       "      <td>1</td>\n",
       "    </tr>\n",
       "    <tr>\n",
       "      <th>4</th>\n",
       "      <td>C101P62ThinF_IMG_20150918_151006_cell_65.png</td>\n",
       "      <td>1</td>\n",
       "    </tr>\n",
       "  </tbody>\n",
       "</table>\n",
       "</div>"
      ],
      "text/plain": [
       "                                               0  infect_status\n",
       "0   C101P62ThinF_IMG_20150918_151006_cell_61.png              1\n",
       "1   C101P62ThinF_IMG_20150918_151006_cell_62.png              1\n",
       "2   C101P62ThinF_IMG_20150918_151006_cell_63.png              1\n",
       "3   C101P62ThinF_IMG_20150918_151006_cell_64.png              1\n",
       "4   C101P62ThinF_IMG_20150918_151006_cell_65.png              1"
      ]
     },
     "execution_count": 14,
     "metadata": {},
     "output_type": "execute_result"
    }
   ],
   "source": [
    "#find the square brackets and remove it from the rows that have ! \n",
    "lab_parasited.iloc[:,0]=lab_parasited.iloc[:, 0].str.replace(\"[\", \"\")\n",
    "lab_parasited.iloc[:,0]=lab_parasited.iloc[:, 0].str.replace(\"]\", \"\")\n",
    "lab_parasited.iloc[:,0]=lab_parasited.iloc[:, 0].str.replace(\"'\", \"\")\n",
    "lab_parasited.head()"
   ]
  },
  {
   "cell_type": "code",
   "execution_count": 15,
   "metadata": {},
   "outputs": [
    {
     "data": {
      "text/html": [
       "<div>\n",
       "<style scoped>\n",
       "    .dataframe tbody tr th:only-of-type {\n",
       "        vertical-align: middle;\n",
       "    }\n",
       "\n",
       "    .dataframe tbody tr th {\n",
       "        vertical-align: top;\n",
       "    }\n",
       "\n",
       "    .dataframe thead th {\n",
       "        text-align: right;\n",
       "    }\n",
       "</style>\n",
       "<table border=\"1\" class=\"dataframe\">\n",
       "  <thead>\n",
       "    <tr style=\"text-align: right;\">\n",
       "      <th></th>\n",
       "      <th>0</th>\n",
       "      <th>infect_status</th>\n",
       "    </tr>\n",
       "  </thead>\n",
       "  <tbody>\n",
       "    <tr>\n",
       "      <th>94876</th>\n",
       "      <td>C99P60ThinF_IMG_20150918_142334_cell_5.png</td>\n",
       "      <td>1</td>\n",
       "    </tr>\n",
       "    <tr>\n",
       "      <th>94877</th>\n",
       "      <td>C99P60ThinF_IMG_20150918_142334_cell_6.png</td>\n",
       "      <td>1</td>\n",
       "    </tr>\n",
       "    <tr>\n",
       "      <th>94878</th>\n",
       "      <td>C99P60ThinF_IMG_20150918_142334_cell_7.png</td>\n",
       "      <td>1</td>\n",
       "    </tr>\n",
       "    <tr>\n",
       "      <th>94879</th>\n",
       "      <td>C99P60ThinF_IMG_20150918_142334_cell_8.png</td>\n",
       "      <td>1</td>\n",
       "    </tr>\n",
       "    <tr>\n",
       "      <th>94880</th>\n",
       "      <td>C99P60ThinF_IMG_20150918_142334_cell_9.png</td>\n",
       "      <td>1</td>\n",
       "    </tr>\n",
       "  </tbody>\n",
       "</table>\n",
       "</div>"
      ],
      "text/plain": [
       "                                                 0  infect_status\n",
       "94876   C99P60ThinF_IMG_20150918_142334_cell_5.png              1\n",
       "94877   C99P60ThinF_IMG_20150918_142334_cell_6.png              1\n",
       "94878   C99P60ThinF_IMG_20150918_142334_cell_7.png              1\n",
       "94879   C99P60ThinF_IMG_20150918_142334_cell_8.png              1\n",
       "94880   C99P60ThinF_IMG_20150918_142334_cell_9.png              1"
      ]
     },
     "execution_count": 15,
     "metadata": {},
     "output_type": "execute_result"
    }
   ],
   "source": [
    "lab_parasited.tail()"
   ]
  },
  {
   "cell_type": "code",
   "execution_count": 16,
   "metadata": {
    "scrolled": true
   },
   "outputs": [
    {
     "data": {
      "text/html": [
       "<div>\n",
       "<style scoped>\n",
       "    .dataframe tbody tr th:only-of-type {\n",
       "        vertical-align: middle;\n",
       "    }\n",
       "\n",
       "    .dataframe tbody tr th {\n",
       "        vertical-align: top;\n",
       "    }\n",
       "\n",
       "    .dataframe thead th {\n",
       "        text-align: right;\n",
       "    }\n",
       "</style>\n",
       "<table border=\"1\" class=\"dataframe\">\n",
       "  <thead>\n",
       "    <tr style=\"text-align: right;\">\n",
       "      <th></th>\n",
       "      <th>0</th>\n",
       "      <th>infect_status</th>\n",
       "    </tr>\n",
       "  </thead>\n",
       "  <tbody>\n",
       "    <tr>\n",
       "      <th>0</th>\n",
       "      <td>C101P62ThinF_IMG_20150918_151006_cell_17.png</td>\n",
       "      <td>0</td>\n",
       "    </tr>\n",
       "    <tr>\n",
       "      <th>1</th>\n",
       "      <td>C101P62ThinF_IMG_20150918_151006_cell_29.png</td>\n",
       "      <td>0</td>\n",
       "    </tr>\n",
       "    <tr>\n",
       "      <th>2</th>\n",
       "      <td>C101P62ThinF_IMG_20150918_151006_cell_32.png</td>\n",
       "      <td>0</td>\n",
       "    </tr>\n",
       "    <tr>\n",
       "      <th>3</th>\n",
       "      <td>C101P62ThinF_IMG_20150918_151006_cell_53.png</td>\n",
       "      <td>0</td>\n",
       "    </tr>\n",
       "    <tr>\n",
       "      <th>4</th>\n",
       "      <td>C101P62ThinF_IMG_20150918_151006_cell_56.png</td>\n",
       "      <td>0</td>\n",
       "    </tr>\n",
       "  </tbody>\n",
       "</table>\n",
       "</div>"
      ],
      "text/plain": [
       "                                               0  infect_status\n",
       "0   C101P62ThinF_IMG_20150918_151006_cell_17.png              0\n",
       "1   C101P62ThinF_IMG_20150918_151006_cell_29.png              0\n",
       "2   C101P62ThinF_IMG_20150918_151006_cell_32.png              0\n",
       "3   C101P62ThinF_IMG_20150918_151006_cell_53.png              0\n",
       "4   C101P62ThinF_IMG_20150918_151006_cell_56.png              0"
      ]
     },
     "execution_count": 16,
     "metadata": {},
     "output_type": "execute_result"
    }
   ],
   "source": [
    "#find the square brackets and remove it from the rows that have ! \n",
    "lab_uninfected.iloc[:,0]=lab_uninfected.iloc[:, 0].str.replace(\"[\", \"\")\n",
    "lab_uninfected.iloc[:,0]=lab_uninfected.iloc[:, 0].str.replace(\"]\", \"\")\n",
    "lab_uninfected.iloc[:,0]=lab_uninfected.iloc[:, 0].str.replace(\"'\", \"\")\n",
    "lab_uninfected.head()"
   ]
  },
  {
   "cell_type": "code",
   "execution_count": 17,
   "metadata": {
    "scrolled": true
   },
   "outputs": [
    {
     "data": {
      "text/html": [
       "<div>\n",
       "<style scoped>\n",
       "    .dataframe tbody tr th:only-of-type {\n",
       "        vertical-align: middle;\n",
       "    }\n",
       "\n",
       "    .dataframe tbody tr th {\n",
       "        vertical-align: top;\n",
       "    }\n",
       "\n",
       "    .dataframe thead th {\n",
       "        text-align: right;\n",
       "    }\n",
       "</style>\n",
       "<table border=\"1\" class=\"dataframe\">\n",
       "  <thead>\n",
       "    <tr style=\"text-align: right;\">\n",
       "      <th></th>\n",
       "      <th>0</th>\n",
       "      <th>infect_status</th>\n",
       "    </tr>\n",
       "  </thead>\n",
       "  <tbody>\n",
       "    <tr>\n",
       "      <th>15386</th>\n",
       "      <td>C99P60ThinF_IMG_20150918_142128_cell_47.png</td>\n",
       "      <td>0</td>\n",
       "    </tr>\n",
       "    <tr>\n",
       "      <th>15387</th>\n",
       "      <td>C99P60ThinF_IMG_20150918_142128_cell_52.png</td>\n",
       "      <td>0</td>\n",
       "    </tr>\n",
       "    <tr>\n",
       "      <th>15388</th>\n",
       "      <td>C99P60ThinF_IMG_20150918_142128_cell_53.png</td>\n",
       "      <td>0</td>\n",
       "    </tr>\n",
       "    <tr>\n",
       "      <th>15389</th>\n",
       "      <td>C99P60ThinF_IMG_20150918_142128_cell_55.png</td>\n",
       "      <td>0</td>\n",
       "    </tr>\n",
       "    <tr>\n",
       "      <th>15390</th>\n",
       "      <td>C99P60ThinF_IMG_20150918_142128_cell_56.png</td>\n",
       "      <td>0</td>\n",
       "    </tr>\n",
       "  </tbody>\n",
       "</table>\n",
       "</div>"
      ],
      "text/plain": [
       "                                                  0  infect_status\n",
       "15386   C99P60ThinF_IMG_20150918_142128_cell_47.png              0\n",
       "15387   C99P60ThinF_IMG_20150918_142128_cell_52.png              0\n",
       "15388   C99P60ThinF_IMG_20150918_142128_cell_53.png              0\n",
       "15389   C99P60ThinF_IMG_20150918_142128_cell_55.png              0\n",
       "15390   C99P60ThinF_IMG_20150918_142128_cell_56.png              0"
      ]
     },
     "execution_count": 17,
     "metadata": {},
     "output_type": "execute_result"
    }
   ],
   "source": [
    "lab_uninfected.tail()"
   ]
  },
  {
   "cell_type": "code",
   "execution_count": 36,
   "metadata": {},
   "outputs": [],
   "source": [
    "lab_parasited[0]=lab_parasited[0].str.replace(\" \", \"\")\n",
    "lab_uninfected[0]=lab_uninfected[0].str.replace(\" \", \"\")"
   ]
  },
  {
   "cell_type": "code",
   "execution_count": 37,
   "metadata": {},
   "outputs": [],
   "source": [
    "#save CSV files just in case\n",
    "\n",
    "lab_parasited.to_csv(\"/Users/anaraquelpengelly/Desktop/MSC_health_data_science/term_2/machine_learning/project_malaria/Malaria_blood_image_classification/lab_parasited.csv\")\n",
    "lab_uninfected.to_csv(\"/Users/anaraquelpengelly/Desktop/MSC_health_data_science/term_2/machine_learning/project_malaria/Malaria_blood_image_classification/lab_uninfected.csv\")"
   ]
  },
  {
   "cell_type": "code",
   "execution_count": 19,
   "metadata": {},
   "outputs": [],
   "source": [
    "#merge the dataframes into one\n",
    "\n",
    "merged=pd.concat([lab_parasited, lab_uninfected])"
   ]
  },
  {
   "cell_type": "code",
   "execution_count": 20,
   "metadata": {
    "scrolled": true
   },
   "outputs": [
    {
     "data": {
      "text/html": [
       "<div>\n",
       "<style scoped>\n",
       "    .dataframe tbody tr th:only-of-type {\n",
       "        vertical-align: middle;\n",
       "    }\n",
       "\n",
       "    .dataframe tbody tr th {\n",
       "        vertical-align: top;\n",
       "    }\n",
       "\n",
       "    .dataframe thead th {\n",
       "        text-align: right;\n",
       "    }\n",
       "</style>\n",
       "<table border=\"1\" class=\"dataframe\">\n",
       "  <thead>\n",
       "    <tr style=\"text-align: right;\">\n",
       "      <th></th>\n",
       "      <th>0</th>\n",
       "      <th>infect_status</th>\n",
       "    </tr>\n",
       "  </thead>\n",
       "  <tbody>\n",
       "    <tr>\n",
       "      <th>0</th>\n",
       "      <td>C101P62ThinF_IMG_20150918_151006_cell_61.png</td>\n",
       "      <td>1</td>\n",
       "    </tr>\n",
       "    <tr>\n",
       "      <th>1</th>\n",
       "      <td>C101P62ThinF_IMG_20150918_151006_cell_62.png</td>\n",
       "      <td>1</td>\n",
       "    </tr>\n",
       "    <tr>\n",
       "      <th>2</th>\n",
       "      <td>C101P62ThinF_IMG_20150918_151006_cell_63.png</td>\n",
       "      <td>1</td>\n",
       "    </tr>\n",
       "    <tr>\n",
       "      <th>3</th>\n",
       "      <td>C101P62ThinF_IMG_20150918_151006_cell_64.png</td>\n",
       "      <td>1</td>\n",
       "    </tr>\n",
       "    <tr>\n",
       "      <th>4</th>\n",
       "      <td>C101P62ThinF_IMG_20150918_151006_cell_65.png</td>\n",
       "      <td>1</td>\n",
       "    </tr>\n",
       "  </tbody>\n",
       "</table>\n",
       "</div>"
      ],
      "text/plain": [
       "                                               0  infect_status\n",
       "0   C101P62ThinF_IMG_20150918_151006_cell_61.png              1\n",
       "1   C101P62ThinF_IMG_20150918_151006_cell_62.png              1\n",
       "2   C101P62ThinF_IMG_20150918_151006_cell_63.png              1\n",
       "3   C101P62ThinF_IMG_20150918_151006_cell_64.png              1\n",
       "4   C101P62ThinF_IMG_20150918_151006_cell_65.png              1"
      ]
     },
     "execution_count": 20,
     "metadata": {},
     "output_type": "execute_result"
    }
   ],
   "source": [
    "merged.head()"
   ]
  },
  {
   "cell_type": "code",
   "execution_count": 21,
   "metadata": {},
   "outputs": [
    {
     "data": {
      "text/html": [
       "<div>\n",
       "<style scoped>\n",
       "    .dataframe tbody tr th:only-of-type {\n",
       "        vertical-align: middle;\n",
       "    }\n",
       "\n",
       "    .dataframe tbody tr th {\n",
       "        vertical-align: top;\n",
       "    }\n",
       "\n",
       "    .dataframe thead th {\n",
       "        text-align: right;\n",
       "    }\n",
       "</style>\n",
       "<table border=\"1\" class=\"dataframe\">\n",
       "  <thead>\n",
       "    <tr style=\"text-align: right;\">\n",
       "      <th></th>\n",
       "      <th>0</th>\n",
       "      <th>infect_status</th>\n",
       "    </tr>\n",
       "  </thead>\n",
       "  <tbody>\n",
       "    <tr>\n",
       "      <th>15386</th>\n",
       "      <td>C99P60ThinF_IMG_20150918_142128_cell_47.png</td>\n",
       "      <td>0</td>\n",
       "    </tr>\n",
       "    <tr>\n",
       "      <th>15387</th>\n",
       "      <td>C99P60ThinF_IMG_20150918_142128_cell_52.png</td>\n",
       "      <td>0</td>\n",
       "    </tr>\n",
       "    <tr>\n",
       "      <th>15388</th>\n",
       "      <td>C99P60ThinF_IMG_20150918_142128_cell_53.png</td>\n",
       "      <td>0</td>\n",
       "    </tr>\n",
       "    <tr>\n",
       "      <th>15389</th>\n",
       "      <td>C99P60ThinF_IMG_20150918_142128_cell_55.png</td>\n",
       "      <td>0</td>\n",
       "    </tr>\n",
       "    <tr>\n",
       "      <th>15390</th>\n",
       "      <td>C99P60ThinF_IMG_20150918_142128_cell_56.png</td>\n",
       "      <td>0</td>\n",
       "    </tr>\n",
       "  </tbody>\n",
       "</table>\n",
       "</div>"
      ],
      "text/plain": [
       "                                                  0  infect_status\n",
       "15386   C99P60ThinF_IMG_20150918_142128_cell_47.png              0\n",
       "15387   C99P60ThinF_IMG_20150918_142128_cell_52.png              0\n",
       "15388   C99P60ThinF_IMG_20150918_142128_cell_53.png              0\n",
       "15389   C99P60ThinF_IMG_20150918_142128_cell_55.png              0\n",
       "15390   C99P60ThinF_IMG_20150918_142128_cell_56.png              0"
      ]
     },
     "execution_count": 21,
     "metadata": {},
     "output_type": "execute_result"
    }
   ],
   "source": [
    "merged.tail()"
   ]
  },
  {
   "cell_type": "code",
   "execution_count": 22,
   "metadata": {},
   "outputs": [
    {
     "data": {
      "text/plain": [
       "(27433, 2)"
      ]
     },
     "execution_count": 22,
     "metadata": {},
     "output_type": "execute_result"
    }
   ],
   "source": [
    "merged.shape"
   ]
  },
  {
   "cell_type": "code",
   "execution_count": 33,
   "metadata": {},
   "outputs": [],
   "source": [
    "merged[0]=merged[0].str.replace(\" \", \"\")\n"
   ]
  },
  {
   "cell_type": "code",
   "execution_count": 34,
   "metadata": {},
   "outputs": [
    {
     "data": {
      "text/html": [
       "<div>\n",
       "<style scoped>\n",
       "    .dataframe tbody tr th:only-of-type {\n",
       "        vertical-align: middle;\n",
       "    }\n",
       "\n",
       "    .dataframe tbody tr th {\n",
       "        vertical-align: top;\n",
       "    }\n",
       "\n",
       "    .dataframe thead th {\n",
       "        text-align: right;\n",
       "    }\n",
       "</style>\n",
       "<table border=\"1\" class=\"dataframe\">\n",
       "  <thead>\n",
       "    <tr style=\"text-align: right;\">\n",
       "      <th></th>\n",
       "      <th>0</th>\n",
       "      <th>infect_status</th>\n",
       "    </tr>\n",
       "  </thead>\n",
       "  <tbody>\n",
       "    <tr>\n",
       "      <th>0</th>\n",
       "      <td>C101P62ThinF_IMG_20150918_151006_cell_61.png</td>\n",
       "      <td>1</td>\n",
       "    </tr>\n",
       "    <tr>\n",
       "      <th>1</th>\n",
       "      <td>C101P62ThinF_IMG_20150918_151006_cell_62.png</td>\n",
       "      <td>1</td>\n",
       "    </tr>\n",
       "    <tr>\n",
       "      <th>2</th>\n",
       "      <td>C101P62ThinF_IMG_20150918_151006_cell_63.png</td>\n",
       "      <td>1</td>\n",
       "    </tr>\n",
       "    <tr>\n",
       "      <th>3</th>\n",
       "      <td>C101P62ThinF_IMG_20150918_151006_cell_64.png</td>\n",
       "      <td>1</td>\n",
       "    </tr>\n",
       "    <tr>\n",
       "      <th>4</th>\n",
       "      <td>C101P62ThinF_IMG_20150918_151006_cell_65.png</td>\n",
       "      <td>1</td>\n",
       "    </tr>\n",
       "  </tbody>\n",
       "</table>\n",
       "</div>"
      ],
      "text/plain": [
       "                                              0  infect_status\n",
       "0  C101P62ThinF_IMG_20150918_151006_cell_61.png              1\n",
       "1  C101P62ThinF_IMG_20150918_151006_cell_62.png              1\n",
       "2  C101P62ThinF_IMG_20150918_151006_cell_63.png              1\n",
       "3  C101P62ThinF_IMG_20150918_151006_cell_64.png              1\n",
       "4  C101P62ThinF_IMG_20150918_151006_cell_65.png              1"
      ]
     },
     "execution_count": 34,
     "metadata": {},
     "output_type": "execute_result"
    }
   ],
   "source": [
    "merged.head()"
   ]
  },
  {
   "cell_type": "markdown",
   "metadata": {},
   "source": [
    "Now save."
   ]
  },
  {
   "cell_type": "code",
   "execution_count": 38,
   "metadata": {},
   "outputs": [],
   "source": [
    "merged.to_csv('/Users/anaraquelpengelly/Desktop/MSC_health_data_science/term_2/machine_learning/project_malaria/Malaria_blood_image_classification/labels.csv')"
   ]
  },
  {
   "cell_type": "markdown",
   "metadata": {},
   "source": [
    "## 2.2 Explore images"
   ]
  },
  {
   "cell_type": "code",
   "execution_count": 24,
   "metadata": {},
   "outputs": [],
   "source": [
    "#import relevant libraries\n",
    "import shutil \n",
    "import tarfile\n",
    "from zipfile import ZipFile #this causes problems in combination with the built in zip function ! !!!!!!!!"
   ]
  },
  {
   "cell_type": "code",
   "execution_count": 115,
   "metadata": {},
   "outputs": [
    {
     "name": "stdout",
     "output_type": "stream",
     "text": [
      "Extracting all the files now...\n",
      "Done!\n"
     ]
    }
   ],
   "source": [
    "# specifying the zip file name \n",
    "cell_images = \"cell_images.zip\"\n",
    "  \n",
    "# opening the zip file in READ mode \n",
    "with ZipFile(cell_images, 'r') as zip: \n",
    "    # extracting all the files \n",
    "    print('Extracting all the files now...') \n",
    "    zip.extractall() \n",
    "    print('Done!') "
   ]
  },
  {
   "cell_type": "markdown",
   "metadata": {},
   "source": [
    "I think this is a virtual environment probelm maybe the zip library doens't work well with zip ... so need to do the function in an independent environment and notebook! "
   ]
  }
 ],
 "metadata": {
  "kernelspec": {
   "display_name": "Python 3",
   "language": "python",
   "name": "python3"
  },
  "language_info": {
   "codemirror_mode": {
    "name": "ipython",
    "version": 3
   },
   "file_extension": ".py",
   "mimetype": "text/x-python",
   "name": "python",
   "nbconvert_exporter": "python",
   "pygments_lexer": "ipython3",
   "version": "3.7.6"
  }
 },
 "nbformat": 4,
 "nbformat_minor": 4
}
