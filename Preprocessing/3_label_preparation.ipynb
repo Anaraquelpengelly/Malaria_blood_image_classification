{
 "cells": [
  {
   "cell_type": "code",
   "execution_count": 1,
   "metadata": {},
   "outputs": [],
   "source": [
    "import sklearn\n",
    "from sklearn import utils, neighbors, ensemble, svm, metrics"
   ]
  },
  {
   "cell_type": "code",
   "execution_count": 2,
   "metadata": {},
   "outputs": [],
   "source": [
    "# Load the libraries\n",
    "import os\n",
    "import imageio\n",
    "import matplotlib.pyplot as plt\n",
    "import pandas as pd\n",
    "import numpy as np\n",
    "import random\n",
    "import seaborn as sns"
   ]
  },
  {
   "cell_type": "code",
   "execution_count": 3,
   "metadata": {},
   "outputs": [],
   "source": [
    "#read_csv\n",
    "\n",
    "labels=pd.read_csv(\"/Users/anaraquelpengelly/Desktop/MSC_health_data_science/term_2/machine_learning/project_malaria/Malaria_blood_image_classification/labels.csv\")\n",
    "\n"
   ]
  },
  {
   "cell_type": "code",
   "execution_count": 4,
   "metadata": {},
   "outputs": [],
   "source": [
    "#shuffle the df\n",
    "random.seed(30)\n",
    "labels = sklearn.utils.shuffle(labels)"
   ]
  },
  {
   "cell_type": "code",
   "execution_count": 5,
   "metadata": {},
   "outputs": [
    {
     "data": {
      "text/html": [
       "<div>\n",
       "<style scoped>\n",
       "    .dataframe tbody tr th:only-of-type {\n",
       "        vertical-align: middle;\n",
       "    }\n",
       "\n",
       "    .dataframe tbody tr th {\n",
       "        vertical-align: top;\n",
       "    }\n",
       "\n",
       "    .dataframe thead th {\n",
       "        text-align: right;\n",
       "    }\n",
       "</style>\n",
       "<table border=\"1\" class=\"dataframe\">\n",
       "  <thead>\n",
       "    <tr style=\"text-align: right;\">\n",
       "      <th></th>\n",
       "      <th>Unnamed: 0</th>\n",
       "      <th>0</th>\n",
       "      <th>infect_status</th>\n",
       "    </tr>\n",
       "  </thead>\n",
       "  <tbody>\n",
       "    <tr>\n",
       "      <th>8680</th>\n",
       "      <td>59549</td>\n",
       "      <td>C45P6ThinF_IMG_20151130_155110_cell_207.png</td>\n",
       "      <td>1</td>\n",
       "    </tr>\n",
       "    <tr>\n",
       "      <th>24749</th>\n",
       "      <td>12378</td>\n",
       "      <td>C62P23N_ThinF_IMG_20150818_133527_cell_103.png</td>\n",
       "      <td>0</td>\n",
       "    </tr>\n",
       "    <tr>\n",
       "      <th>26527</th>\n",
       "      <td>14374</td>\n",
       "      <td>C86P47ThinF_IMG_20150820_124943_cell_78.png</td>\n",
       "      <td>0</td>\n",
       "    </tr>\n",
       "    <tr>\n",
       "      <th>5550</th>\n",
       "      <td>47714</td>\n",
       "      <td>C176P137NThinF_IMG_20151201_122811_cell_162.png</td>\n",
       "      <td>1</td>\n",
       "    </tr>\n",
       "    <tr>\n",
       "      <th>25451</th>\n",
       "      <td>13157</td>\n",
       "      <td>C71P32_ThinF_IMG_20150813_163655_cell_58.png</td>\n",
       "      <td>0</td>\n",
       "    </tr>\n",
       "  </tbody>\n",
       "</table>\n",
       "</div>"
      ],
      "text/plain": [
       "       Unnamed: 0                                                0  \\\n",
       "8680        59549      C45P6ThinF_IMG_20151130_155110_cell_207.png   \n",
       "24749       12378   C62P23N_ThinF_IMG_20150818_133527_cell_103.png   \n",
       "26527       14374      C86P47ThinF_IMG_20150820_124943_cell_78.png   \n",
       "5550        47714  C176P137NThinF_IMG_20151201_122811_cell_162.png   \n",
       "25451       13157     C71P32_ThinF_IMG_20150813_163655_cell_58.png   \n",
       "\n",
       "       infect_status  \n",
       "8680               1  \n",
       "24749              0  \n",
       "26527              0  \n",
       "5550               1  \n",
       "25451              0  "
      ]
     },
     "execution_count": 5,
     "metadata": {},
     "output_type": "execute_result"
    }
   ],
   "source": [
    "labels.head()"
   ]
  },
  {
   "cell_type": "code",
   "execution_count": 6,
   "metadata": {},
   "outputs": [],
   "source": [
    "labels.to_csv(\"/Users/anaraquelpengelly/Desktop/MSC_health_data_science/term_2/machine_learning/project_malaria/Malaria_blood_image_classification/shuffled_labels.csv\", index=False)"
   ]
  },
  {
   "cell_type": "markdown",
   "metadata": {},
   "source": [
    "## Splitting the training and test sets"
   ]
  },
  {
   "cell_type": "markdown",
   "metadata": {},
   "source": [
    "Now we have a shuffled label df, we need to decide what the best way to split the training and test sets.\n",
    "- 80% and 20% ? or something else? how do we determine the best way to do it?\n",
    "- in any case we should have 50% of images that are infected and uninfected in the training set ( and the test set)"
   ]
  },
  {
   "cell_type": "code",
   "execution_count": 7,
   "metadata": {},
   "outputs": [],
   "source": [
    "#sampleing labels for the training set:\n",
    "training=labels.sample(frac=0.8, replace=False, random_state=30)"
   ]
  },
  {
   "cell_type": "code",
   "execution_count": 8,
   "metadata": {},
   "outputs": [
    {
     "data": {
      "text/plain": [
       "(21946, 3)"
      ]
     },
     "execution_count": 8,
     "metadata": {},
     "output_type": "execute_result"
    }
   ],
   "source": [
    "training.shape"
   ]
  },
  {
   "cell_type": "code",
   "execution_count": 9,
   "metadata": {},
   "outputs": [
    {
     "data": {
      "text/html": [
       "<div>\n",
       "<style scoped>\n",
       "    .dataframe tbody tr th:only-of-type {\n",
       "        vertical-align: middle;\n",
       "    }\n",
       "\n",
       "    .dataframe tbody tr th {\n",
       "        vertical-align: top;\n",
       "    }\n",
       "\n",
       "    .dataframe thead th {\n",
       "        text-align: right;\n",
       "    }\n",
       "</style>\n",
       "<table border=\"1\" class=\"dataframe\">\n",
       "  <thead>\n",
       "    <tr style=\"text-align: right;\">\n",
       "      <th></th>\n",
       "      <th>Unnamed: 0</th>\n",
       "      <th>0</th>\n",
       "      <th>infect_status</th>\n",
       "    </tr>\n",
       "  </thead>\n",
       "  <tbody>\n",
       "    <tr>\n",
       "      <th>2297</th>\n",
       "      <td>18025</td>\n",
       "      <td>C129P90ThinF_IMG_20151004_134944_cell_25.png</td>\n",
       "      <td>1</td>\n",
       "    </tr>\n",
       "    <tr>\n",
       "      <th>10054</th>\n",
       "      <td>69701</td>\n",
       "      <td>C60P21thinF_IMG_20150804_105034_cell_119.png</td>\n",
       "      <td>1</td>\n",
       "    </tr>\n",
       "    <tr>\n",
       "      <th>1678</th>\n",
       "      <td>13931</td>\n",
       "      <td>C123P84ThinF_IMG_20151002_150931_cell_202.png</td>\n",
       "      <td>1</td>\n",
       "    </tr>\n",
       "    <tr>\n",
       "      <th>8372</th>\n",
       "      <td>58597</td>\n",
       "      <td>C39P4thinF_original_IMG_20150622_111942_cell_1...</td>\n",
       "      <td>1</td>\n",
       "    </tr>\n",
       "    <tr>\n",
       "      <th>11237</th>\n",
       "      <td>76152</td>\n",
       "      <td>C70P31_ThinF_IMG_20150819_142703_cell_1.png</td>\n",
       "      <td>1</td>\n",
       "    </tr>\n",
       "  </tbody>\n",
       "</table>\n",
       "</div>"
      ],
      "text/plain": [
       "       Unnamed: 0                                                  0  \\\n",
       "2297        18025       C129P90ThinF_IMG_20151004_134944_cell_25.png   \n",
       "10054       69701       C60P21thinF_IMG_20150804_105034_cell_119.png   \n",
       "1678        13931      C123P84ThinF_IMG_20151002_150931_cell_202.png   \n",
       "8372        58597  C39P4thinF_original_IMG_20150622_111942_cell_1...   \n",
       "11237       76152        C70P31_ThinF_IMG_20150819_142703_cell_1.png   \n",
       "\n",
       "       infect_status  \n",
       "2297               1  \n",
       "10054              1  \n",
       "1678               1  \n",
       "8372               1  \n",
       "11237              1  "
      ]
     },
     "execution_count": 9,
     "metadata": {},
     "output_type": "execute_result"
    }
   ],
   "source": [
    "training.head()"
   ]
  },
  {
   "cell_type": "code",
   "execution_count": 10,
   "metadata": {
    "scrolled": true
   },
   "outputs": [
    {
     "data": {
      "text/plain": [
       "0    10977\n",
       "1    10969\n",
       "Name: infect_status, dtype: int64"
      ]
     },
     "execution_count": 10,
     "metadata": {},
     "output_type": "execute_result"
    }
   ],
   "source": [
    "training[\"infect_status\"].value_counts()"
   ]
  },
  {
   "cell_type": "code",
   "execution_count": 11,
   "metadata": {},
   "outputs": [
    {
     "data": {
      "text/plain": [
       "C132P93ThinF_IMG_20151004_152642_cell_48.png       1\n",
       "C132P93ThinF_IMG_20151004_151733_cell_166.png      1\n",
       "C174P135NThinF_IMG_20151127_135342_cell_221.png    1\n",
       "C117P78ThinF_IMG_20150930_220616_cell_65.png       1\n",
       "C143P104ThinF_IMG_20151005_225746_cell_173.png     1\n",
       "                                                  ..\n",
       "C222ThinF_IMG_20151115_150925_cell_215.png         1\n",
       "C59P20thinF_IMG_20150803_112858_cell_157.png       1\n",
       "C110P71ThinF_IMG_20150930_105319_cell_144.png      1\n",
       "C1_thinF_IMG_20150604_104722_cell_79.png           1\n",
       "C137P98ThinF_IMG_20151005_160122_cell_73.png       1\n",
       "Name: 0, Length: 21946, dtype: int64"
      ]
     },
     "execution_count": 11,
     "metadata": {},
     "output_type": "execute_result"
    }
   ],
   "source": [
    "training[\"0\"].value_counts()"
   ]
  },
  {
   "cell_type": "markdown",
   "metadata": {},
   "source": [
    "Below I could have used the train.test.split function from sklearn."
   ]
  },
  {
   "cell_type": "code",
   "execution_count": 13,
   "metadata": {},
   "outputs": [
    {
     "data": {
      "text/plain": [
       "(5487, 3)"
      ]
     },
     "execution_count": 13,
     "metadata": {},
     "output_type": "execute_result"
    }
   ],
   "source": [
    "#sampleing lables for the test set: \n",
    "#Identify what values are in labels and not in training:\n",
    "# %%timeit\n",
    "diff=set(labels[\"0\"]).difference(training[\"0\"])\n",
    "where_diff =labels[\"0\"].isin(diff)\n",
    "#slice labels and add create df\n",
    "test=labels[where_diff]\n",
    "test.shape"
   ]
  },
  {
   "cell_type": "code",
   "execution_count": 14,
   "metadata": {},
   "outputs": [
    {
     "data": {
      "text/html": [
       "<div>\n",
       "<style scoped>\n",
       "    .dataframe tbody tr th:only-of-type {\n",
       "        vertical-align: middle;\n",
       "    }\n",
       "\n",
       "    .dataframe tbody tr th {\n",
       "        vertical-align: top;\n",
       "    }\n",
       "\n",
       "    .dataframe thead th {\n",
       "        text-align: right;\n",
       "    }\n",
       "</style>\n",
       "<table border=\"1\" class=\"dataframe\">\n",
       "  <thead>\n",
       "    <tr style=\"text-align: right;\">\n",
       "      <th></th>\n",
       "      <th>Unnamed: 0</th>\n",
       "      <th>0</th>\n",
       "      <th>infect_status</th>\n",
       "    </tr>\n",
       "  </thead>\n",
       "  <tbody>\n",
       "    <tr>\n",
       "      <th>26557</th>\n",
       "      <td>14413</td>\n",
       "      <td>C87P48ThinF_IMG_20150820_132514_cell_13.png</td>\n",
       "      <td>0</td>\n",
       "    </tr>\n",
       "    <tr>\n",
       "      <th>5098</th>\n",
       "      <td>46231</td>\n",
       "      <td>C174P135NThinF_IMG_20151127_135342_cell_220.png</td>\n",
       "      <td>1</td>\n",
       "    </tr>\n",
       "    <tr>\n",
       "      <th>8414</th>\n",
       "      <td>58639</td>\n",
       "      <td>C39P4thinF_original_IMG_20150622_112119_cell_6...</td>\n",
       "      <td>1</td>\n",
       "    </tr>\n",
       "    <tr>\n",
       "      <th>13598</th>\n",
       "      <td>94757</td>\n",
       "      <td>C99P60ThinF_IMG_20150918_141857_cell_32.png</td>\n",
       "      <td>1</td>\n",
       "    </tr>\n",
       "    <tr>\n",
       "      <th>26837</th>\n",
       "      <td>14722</td>\n",
       "      <td>C91P52ThinF_IMG_20150821_123314_cell_16.png</td>\n",
       "      <td>0</td>\n",
       "    </tr>\n",
       "  </tbody>\n",
       "</table>\n",
       "</div>"
      ],
      "text/plain": [
       "       Unnamed: 0                                                  0  \\\n",
       "26557       14413        C87P48ThinF_IMG_20150820_132514_cell_13.png   \n",
       "5098        46231    C174P135NThinF_IMG_20151127_135342_cell_220.png   \n",
       "8414        58639  C39P4thinF_original_IMG_20150622_112119_cell_6...   \n",
       "13598       94757        C99P60ThinF_IMG_20150918_141857_cell_32.png   \n",
       "26837       14722        C91P52ThinF_IMG_20150821_123314_cell_16.png   \n",
       "\n",
       "       infect_status  \n",
       "26557              0  \n",
       "5098               1  \n",
       "8414               1  \n",
       "13598              1  \n",
       "26837              0  "
      ]
     },
     "execution_count": 14,
     "metadata": {},
     "output_type": "execute_result"
    }
   ],
   "source": [
    "test.head()"
   ]
  },
  {
   "cell_type": "code",
   "execution_count": 15,
   "metadata": {
    "scrolled": true
   },
   "outputs": [
    {
     "data": {
      "text/plain": [
       "1    2753\n",
       "0    2734\n",
       "Name: infect_status, dtype: int64"
      ]
     },
     "execution_count": 15,
     "metadata": {},
     "output_type": "execute_result"
    }
   ],
   "source": [
    "test[\"infect_status\"].value_counts()"
   ]
  },
  {
   "cell_type": "code",
   "execution_count": 16,
   "metadata": {},
   "outputs": [],
   "source": [
    "#now save both as csvs\n",
    "path=\"/Users/anaraquelpengelly/Desktop/MSC_health_data_science/term_2/machine_learning/project_malaria/Malaria_blood_image_classification/\"\n",
    "training.to_csv((path+\"training_labels.csv\"), index=False)\n",
    "test.to_csv((path+\"test_labels.csv\"), index=False)"
   ]
  },
  {
   "cell_type": "code",
   "execution_count": 17,
   "metadata": {},
   "outputs": [
    {
     "data": {
      "text/plain": [
       "(21946, 3)"
      ]
     },
     "execution_count": 17,
     "metadata": {},
     "output_type": "execute_result"
    }
   ],
   "source": [
    "#Just to check that thecsvs look fine \n",
    "a=pd.read_csv((path+\"training_labels.csv\"))\n",
    "a.shape"
   ]
  },
  {
   "cell_type": "code",
   "execution_count": 18,
   "metadata": {},
   "outputs": [
    {
     "data": {
      "text/plain": [
       "(5487, 3)"
      ]
     },
     "execution_count": 18,
     "metadata": {},
     "output_type": "execute_result"
    }
   ],
   "source": [
    "b=pd.read_csv((path+\"test_labels.csv\"))\n",
    "b.shape"
   ]
  },
  {
   "cell_type": "code",
   "execution_count": 19,
   "metadata": {},
   "outputs": [
    {
     "data": {
      "text/plain": [
       "(27433, 3)"
      ]
     },
     "execution_count": 19,
     "metadata": {},
     "output_type": "execute_result"
    }
   ],
   "source": [
    "c=pd.read_csv((path+\"shuffled_labels.csv\"))\n",
    "c.shape"
   ]
  },
  {
   "cell_type": "markdown",
   "metadata": {},
   "source": [
    "All looks good ecscept that we now have tw extra useless columns! "
   ]
  },
  {
   "cell_type": "markdown",
   "metadata": {},
   "source": [
    "Now we need to put all pictures in one folder and then create a function to grab from that folder the training and the test images."
   ]
  },
  {
   "cell_type": "markdown",
   "metadata": {},
   "source": [
    "## Split the training set in cross validation sets..."
   ]
  },
  {
   "cell_type": "markdown",
   "metadata": {},
   "source": [
    "## Making a toy dataset label file"
   ]
  },
  {
   "cell_type": "code",
   "execution_count": 20,
   "metadata": {},
   "outputs": [],
   "source": [
    "#randomly select 200 parasited and uninfected images:\n",
    "\n",
    "toy=labels.sample(n=200, replace=False, random_state=30)\n",
    "\n"
   ]
  },
  {
   "cell_type": "code",
   "execution_count": 21,
   "metadata": {},
   "outputs": [
    {
     "data": {
      "text/plain": [
       "(200, 3)"
      ]
     },
     "execution_count": 21,
     "metadata": {},
     "output_type": "execute_result"
    }
   ],
   "source": [
    "toy.shape"
   ]
  },
  {
   "cell_type": "code",
   "execution_count": 22,
   "metadata": {
    "scrolled": false
   },
   "outputs": [
    {
     "data": {
      "text/plain": [
       "0    106\n",
       "1     94\n",
       "Name: infect_status, dtype: int64"
      ]
     },
     "execution_count": 22,
     "metadata": {},
     "output_type": "execute_result"
    }
   ],
   "source": [
    "toy[\"infect_status\"].value_counts()"
   ]
  },
  {
   "cell_type": "markdown",
   "metadata": {},
   "source": [
    "This toy doesn't have the same number of uninfected and infected images, so I am going to try a different strategy:"
   ]
  },
  {
   "cell_type": "code",
   "execution_count": 23,
   "metadata": {},
   "outputs": [
    {
     "data": {
      "text/plain": [
       "1    100\n",
       "0    100\n",
       "Name: infect_status, dtype: int64"
      ]
     },
     "execution_count": 23,
     "metadata": {},
     "output_type": "execute_result"
    }
   ],
   "source": [
    "grouped=labels.groupby(\"infect_status\")\n",
    "toy_df=grouped.apply(lambda x: x.sample(n=100, replace=False))\n",
    "toy_df[\"infect_status\"].value_counts()"
   ]
  },
  {
   "cell_type": "markdown",
   "metadata": {},
   "source": [
    "I will now check that they are unique images: "
   ]
  },
  {
   "cell_type": "code",
   "execution_count": 24,
   "metadata": {},
   "outputs": [
    {
     "name": "stdout",
     "output_type": "stream",
     "text": [
      "200\n"
     ]
    }
   ],
   "source": [
    "print(len(toy_df.drop_duplicates()))"
   ]
  },
  {
   "cell_type": "code",
   "execution_count": 25,
   "metadata": {
    "scrolled": true
   },
   "outputs": [
    {
     "data": {
      "text/html": [
       "<div>\n",
       "<style scoped>\n",
       "    .dataframe tbody tr th:only-of-type {\n",
       "        vertical-align: middle;\n",
       "    }\n",
       "\n",
       "    .dataframe tbody tr th {\n",
       "        vertical-align: top;\n",
       "    }\n",
       "\n",
       "    .dataframe thead th {\n",
       "        text-align: right;\n",
       "    }\n",
       "</style>\n",
       "<table border=\"1\" class=\"dataframe\">\n",
       "  <thead>\n",
       "    <tr style=\"text-align: right;\">\n",
       "      <th></th>\n",
       "      <th></th>\n",
       "      <th>Unnamed: 0</th>\n",
       "      <th>0</th>\n",
       "      <th>infect_status</th>\n",
       "    </tr>\n",
       "    <tr>\n",
       "      <th>infect_status</th>\n",
       "      <th></th>\n",
       "      <th></th>\n",
       "      <th></th>\n",
       "      <th></th>\n",
       "    </tr>\n",
       "  </thead>\n",
       "  <tbody>\n",
       "    <tr>\n",
       "      <th rowspan=\"5\" valign=\"top\">0</th>\n",
       "      <th>23577</th>\n",
       "      <td>11064</td>\n",
       "      <td>C47P8thin_Original_Motic_IMG_20150714_093947_c...</td>\n",
       "      <td>0</td>\n",
       "    </tr>\n",
       "    <tr>\n",
       "      <th>21166</th>\n",
       "      <td>8356</td>\n",
       "      <td>C217ThinF_IMG_20151106_141500_cell_98.png</td>\n",
       "      <td>0</td>\n",
       "    </tr>\n",
       "    <tr>\n",
       "      <th>18461</th>\n",
       "      <td>5328</td>\n",
       "      <td>C168P129ThinF_IMG_20151118_154126_cell_78.png</td>\n",
       "      <td>0</td>\n",
       "    </tr>\n",
       "    <tr>\n",
       "      <th>24083</th>\n",
       "      <td>11641</td>\n",
       "      <td>C54P15thinF_IMG_20150728_105949_cell_103.png</td>\n",
       "      <td>0</td>\n",
       "    </tr>\n",
       "    <tr>\n",
       "      <th>24821</th>\n",
       "      <td>12458</td>\n",
       "      <td>C63P24N_ThinF_IMG_20150818_144456_cell_135.png</td>\n",
       "      <td>0</td>\n",
       "    </tr>\n",
       "  </tbody>\n",
       "</table>\n",
       "</div>"
      ],
      "text/plain": [
       "                     Unnamed: 0  \\\n",
       "infect_status                     \n",
       "0             23577       11064   \n",
       "              21166        8356   \n",
       "              18461        5328   \n",
       "              24083       11641   \n",
       "              24821       12458   \n",
       "\n",
       "                                                                     0  \\\n",
       "infect_status                                                            \n",
       "0             23577  C47P8thin_Original_Motic_IMG_20150714_093947_c...   \n",
       "              21166          C217ThinF_IMG_20151106_141500_cell_98.png   \n",
       "              18461      C168P129ThinF_IMG_20151118_154126_cell_78.png   \n",
       "              24083       C54P15thinF_IMG_20150728_105949_cell_103.png   \n",
       "              24821     C63P24N_ThinF_IMG_20150818_144456_cell_135.png   \n",
       "\n",
       "                     infect_status  \n",
       "infect_status                       \n",
       "0             23577              0  \n",
       "              21166              0  \n",
       "              18461              0  \n",
       "              24083              0  \n",
       "              24821              0  "
      ]
     },
     "execution_count": 25,
     "metadata": {},
     "output_type": "execute_result"
    }
   ],
   "source": [
    "toy_df.head()"
   ]
  },
  {
   "cell_type": "code",
   "execution_count": 26,
   "metadata": {
    "scrolled": true
   },
   "outputs": [
    {
     "data": {
      "text/html": [
       "<div>\n",
       "<style scoped>\n",
       "    .dataframe tbody tr th:only-of-type {\n",
       "        vertical-align: middle;\n",
       "    }\n",
       "\n",
       "    .dataframe tbody tr th {\n",
       "        vertical-align: top;\n",
       "    }\n",
       "\n",
       "    .dataframe thead th {\n",
       "        text-align: right;\n",
       "    }\n",
       "</style>\n",
       "<table border=\"1\" class=\"dataframe\">\n",
       "  <thead>\n",
       "    <tr style=\"text-align: right;\">\n",
       "      <th></th>\n",
       "      <th>Unnamed: 0</th>\n",
       "      <th>0</th>\n",
       "      <th>infect_status</th>\n",
       "    </tr>\n",
       "  </thead>\n",
       "  <tbody>\n",
       "    <tr>\n",
       "      <th>24018</th>\n",
       "      <td>11567</td>\n",
       "      <td>C53P14thinF_IMG_20150726_114606_cell_11.png</td>\n",
       "      <td>0</td>\n",
       "    </tr>\n",
       "  </tbody>\n",
       "</table>\n",
       "</div>"
      ],
      "text/plain": [
       "       Unnamed: 0                                            0  infect_status\n",
       "24018       11567  C53P14thinF_IMG_20150726_114606_cell_11.png              0"
      ]
     },
     "execution_count": 26,
     "metadata": {},
     "output_type": "execute_result"
    }
   ],
   "source": [
    "#just checking that the label is correct!\n",
    "labels[labels[\"0\"]==\"C53P14thinF_IMG_20150726_114606_cell_11.png\"]\n"
   ]
  },
  {
   "cell_type": "code",
   "execution_count": 27,
   "metadata": {},
   "outputs": [],
   "source": [
    "#shuffle: \n",
    "random.seed(30)\n",
    "toy_df = sklearn.utils.shuffle(toy_df)"
   ]
  },
  {
   "cell_type": "code",
   "execution_count": 28,
   "metadata": {},
   "outputs": [
    {
     "data": {
      "text/html": [
       "<div>\n",
       "<style scoped>\n",
       "    .dataframe tbody tr th:only-of-type {\n",
       "        vertical-align: middle;\n",
       "    }\n",
       "\n",
       "    .dataframe tbody tr th {\n",
       "        vertical-align: top;\n",
       "    }\n",
       "\n",
       "    .dataframe thead th {\n",
       "        text-align: right;\n",
       "    }\n",
       "</style>\n",
       "<table border=\"1\" class=\"dataframe\">\n",
       "  <thead>\n",
       "    <tr style=\"text-align: right;\">\n",
       "      <th></th>\n",
       "      <th></th>\n",
       "      <th>Unnamed: 0</th>\n",
       "      <th>0</th>\n",
       "      <th>infect_status</th>\n",
       "    </tr>\n",
       "    <tr>\n",
       "      <th>infect_status</th>\n",
       "      <th></th>\n",
       "      <th></th>\n",
       "      <th></th>\n",
       "      <th></th>\n",
       "    </tr>\n",
       "  </thead>\n",
       "  <tbody>\n",
       "    <tr>\n",
       "      <th rowspan=\"2\" valign=\"top\">1</th>\n",
       "      <th>13152</th>\n",
       "      <td>93717</td>\n",
       "      <td>C98P59ThinF_IMG_20150917_154452_cell_204.png</td>\n",
       "      <td>1</td>\n",
       "    </tr>\n",
       "    <tr>\n",
       "      <th>1781</th>\n",
       "      <td>14604</td>\n",
       "      <td>C124P85ThinF_IMG_20151002_155223_cell_170.png</td>\n",
       "      <td>1</td>\n",
       "    </tr>\n",
       "    <tr>\n",
       "      <th rowspan=\"2\" valign=\"top\">0</th>\n",
       "      <th>14188</th>\n",
       "      <td>515</td>\n",
       "      <td>C107P68ThinF_IMG_20150924_222535_cell_69.png</td>\n",
       "      <td>0</td>\n",
       "    </tr>\n",
       "    <tr>\n",
       "      <th>23264</th>\n",
       "      <td>10718</td>\n",
       "      <td>C42P5thin_original_IMG_20150623_134547_cell_15...</td>\n",
       "      <td>0</td>\n",
       "    </tr>\n",
       "    <tr>\n",
       "      <th>1</th>\n",
       "      <th>11405</th>\n",
       "      <td>79822</td>\n",
       "      <td>C76P37ThinF_IMG_20150815_173019_cell_233.png</td>\n",
       "      <td>1</td>\n",
       "    </tr>\n",
       "  </tbody>\n",
       "</table>\n",
       "</div>"
      ],
      "text/plain": [
       "                     Unnamed: 0  \\\n",
       "infect_status                     \n",
       "1             13152       93717   \n",
       "              1781        14604   \n",
       "0             14188         515   \n",
       "              23264       10718   \n",
       "1             11405       79822   \n",
       "\n",
       "                                                                     0  \\\n",
       "infect_status                                                            \n",
       "1             13152       C98P59ThinF_IMG_20150917_154452_cell_204.png   \n",
       "              1781       C124P85ThinF_IMG_20151002_155223_cell_170.png   \n",
       "0             14188       C107P68ThinF_IMG_20150924_222535_cell_69.png   \n",
       "              23264  C42P5thin_original_IMG_20150623_134547_cell_15...   \n",
       "1             11405       C76P37ThinF_IMG_20150815_173019_cell_233.png   \n",
       "\n",
       "                     infect_status  \n",
       "infect_status                       \n",
       "1             13152              1  \n",
       "              1781               1  \n",
       "0             14188              0  \n",
       "              23264              0  \n",
       "1             11405              1  "
      ]
     },
     "execution_count": 28,
     "metadata": {},
     "output_type": "execute_result"
    }
   ],
   "source": [
    "toy_df.head()"
   ]
  },
  {
   "cell_type": "code",
   "execution_count": 33,
   "metadata": {},
   "outputs": [],
   "source": [
    "#now save df:\n",
    "path=\"/Users/anaraquelpengelly/Desktop/MSC_health_data_science/term_2/machine_learning/project_malaria/Malaria_blood_image_classification/\"\n",
    "toy_df.to_csv((path+\"toy_df.csv\"), index=False)"
   ]
  },
  {
   "cell_type": "code",
   "execution_count": 34,
   "metadata": {},
   "outputs": [
    {
     "data": {
      "text/html": [
       "<div>\n",
       "<style scoped>\n",
       "    .dataframe tbody tr th:only-of-type {\n",
       "        vertical-align: middle;\n",
       "    }\n",
       "\n",
       "    .dataframe tbody tr th {\n",
       "        vertical-align: top;\n",
       "    }\n",
       "\n",
       "    .dataframe thead th {\n",
       "        text-align: right;\n",
       "    }\n",
       "</style>\n",
       "<table border=\"1\" class=\"dataframe\">\n",
       "  <thead>\n",
       "    <tr style=\"text-align: right;\">\n",
       "      <th></th>\n",
       "      <th>Unnamed: 0</th>\n",
       "      <th>0</th>\n",
       "      <th>infect_status</th>\n",
       "    </tr>\n",
       "  </thead>\n",
       "  <tbody>\n",
       "    <tr>\n",
       "      <th>0</th>\n",
       "      <td>93717</td>\n",
       "      <td>C98P59ThinF_IMG_20150917_154452_cell_204.png</td>\n",
       "      <td>1</td>\n",
       "    </tr>\n",
       "    <tr>\n",
       "      <th>1</th>\n",
       "      <td>14604</td>\n",
       "      <td>C124P85ThinF_IMG_20151002_155223_cell_170.png</td>\n",
       "      <td>1</td>\n",
       "    </tr>\n",
       "    <tr>\n",
       "      <th>2</th>\n",
       "      <td>515</td>\n",
       "      <td>C107P68ThinF_IMG_20150924_222535_cell_69.png</td>\n",
       "      <td>0</td>\n",
       "    </tr>\n",
       "    <tr>\n",
       "      <th>3</th>\n",
       "      <td>10718</td>\n",
       "      <td>C42P5thin_original_IMG_20150623_134547_cell_15...</td>\n",
       "      <td>0</td>\n",
       "    </tr>\n",
       "    <tr>\n",
       "      <th>4</th>\n",
       "      <td>79822</td>\n",
       "      <td>C76P37ThinF_IMG_20150815_173019_cell_233.png</td>\n",
       "      <td>1</td>\n",
       "    </tr>\n",
       "  </tbody>\n",
       "</table>\n",
       "</div>"
      ],
      "text/plain": [
       "   Unnamed: 0                                                  0  \\\n",
       "0       93717       C98P59ThinF_IMG_20150917_154452_cell_204.png   \n",
       "1       14604      C124P85ThinF_IMG_20151002_155223_cell_170.png   \n",
       "2         515       C107P68ThinF_IMG_20150924_222535_cell_69.png   \n",
       "3       10718  C42P5thin_original_IMG_20150623_134547_cell_15...   \n",
       "4       79822       C76P37ThinF_IMG_20150815_173019_cell_233.png   \n",
       "\n",
       "   infect_status  \n",
       "0              1  \n",
       "1              1  \n",
       "2              0  \n",
       "3              0  \n",
       "4              1  "
      ]
     },
     "execution_count": 34,
     "metadata": {},
     "output_type": "execute_result"
    }
   ],
   "source": [
    "#test:\n",
    "toy_df=pd.read_csv(path+\"toy_df.csv\")\n",
    "toy_df.head()"
   ]
  },
  {
   "cell_type": "markdown",
   "metadata": {},
   "source": [
    "Need to see how to access the rownames of a df in pandas.."
   ]
  },
  {
   "cell_type": "code",
   "execution_count": 35,
   "metadata": {},
   "outputs": [
    {
     "data": {
      "text/plain": [
       "(40, 3)"
      ]
     },
     "execution_count": 35,
     "metadata": {},
     "output_type": "execute_result"
    }
   ],
   "source": [
    "#now make the training and the test DFs\n",
    "##sampleing labels for the training set:\n",
    "training_toy=toy_df.sample(frac=0.8, replace=False, random_state=30)\n",
    "##sampleing labels for the test set: \n",
    "diff=set(toy_df[\"0\"]).difference(training_toy[\"0\"])\n",
    "where_diff =toy_df[\"0\"].isin(diff)\n",
    "#slice labels and add create df\n",
    "test_toy=toy_df[where_diff]\n",
    "test_toy.shape"
   ]
  },
  {
   "cell_type": "code",
   "execution_count": 36,
   "metadata": {},
   "outputs": [
    {
     "data": {
      "text/html": [
       "<div>\n",
       "<style scoped>\n",
       "    .dataframe tbody tr th:only-of-type {\n",
       "        vertical-align: middle;\n",
       "    }\n",
       "\n",
       "    .dataframe tbody tr th {\n",
       "        vertical-align: top;\n",
       "    }\n",
       "\n",
       "    .dataframe thead th {\n",
       "        text-align: right;\n",
       "    }\n",
       "</style>\n",
       "<table border=\"1\" class=\"dataframe\">\n",
       "  <thead>\n",
       "    <tr style=\"text-align: right;\">\n",
       "      <th></th>\n",
       "      <th>Unnamed: 0</th>\n",
       "      <th>0</th>\n",
       "      <th>infect_status</th>\n",
       "    </tr>\n",
       "  </thead>\n",
       "  <tbody>\n",
       "    <tr>\n",
       "      <th>7</th>\n",
       "      <td>42434</td>\n",
       "      <td>C168P129ThinF_IMG_20151118_155802_cell_152.png</td>\n",
       "      <td>1</td>\n",
       "    </tr>\n",
       "    <tr>\n",
       "      <th>11</th>\n",
       "      <td>17144</td>\n",
       "      <td>C128P89ThinF_IMG_20151004_131030_cell_152.png</td>\n",
       "      <td>1</td>\n",
       "    </tr>\n",
       "    <tr>\n",
       "      <th>13</th>\n",
       "      <td>4203</td>\n",
       "      <td>C153P114ThinF_IMG_20151115_135911_cell_247.png</td>\n",
       "      <td>0</td>\n",
       "    </tr>\n",
       "    <tr>\n",
       "      <th>15</th>\n",
       "      <td>5748</td>\n",
       "      <td>C173P134NThinF_IMG_20151130_125408_cell_67.png</td>\n",
       "      <td>0</td>\n",
       "    </tr>\n",
       "    <tr>\n",
       "      <th>18</th>\n",
       "      <td>9519</td>\n",
       "      <td>C116P77ThinF_IMG_20150930_171219_cell_85.png</td>\n",
       "      <td>1</td>\n",
       "    </tr>\n",
       "  </tbody>\n",
       "</table>\n",
       "</div>"
      ],
      "text/plain": [
       "    Unnamed: 0                                               0  infect_status\n",
       "7        42434  C168P129ThinF_IMG_20151118_155802_cell_152.png              1\n",
       "11       17144   C128P89ThinF_IMG_20151004_131030_cell_152.png              1\n",
       "13        4203  C153P114ThinF_IMG_20151115_135911_cell_247.png              0\n",
       "15        5748  C173P134NThinF_IMG_20151130_125408_cell_67.png              0\n",
       "18        9519    C116P77ThinF_IMG_20150930_171219_cell_85.png              1"
      ]
     },
     "execution_count": 36,
     "metadata": {},
     "output_type": "execute_result"
    }
   ],
   "source": [
    "test_toy.head()"
   ]
  },
  {
   "cell_type": "code",
   "execution_count": 71,
   "metadata": {},
   "outputs": [],
   "source": [
    "#save all the toys as csvs:\n",
    "test_toy.to_csv(path+\"test_toy.csv\", index=False)\n",
    "training_toy.to_csv(path+\"training_toy.csv\", index=False)"
   ]
  }
 ],
 "metadata": {
  "kernelspec": {
   "display_name": "env_sklearn",
   "language": "python",
   "name": "env_sklearn"
  },
  "language_info": {
   "codemirror_mode": {
    "name": "ipython",
    "version": 3
   },
   "file_extension": ".py",
   "mimetype": "text/x-python",
   "name": "python",
   "nbconvert_exporter": "python",
   "pygments_lexer": "ipython3",
   "version": "3.7.6"
  }
 },
 "nbformat": 4,
 "nbformat_minor": 4
}
