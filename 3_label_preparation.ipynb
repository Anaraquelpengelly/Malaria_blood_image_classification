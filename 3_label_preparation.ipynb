{
 "cells": [
  {
   "cell_type": "code",
   "execution_count": 32,
   "metadata": {},
   "outputs": [],
   "source": [
    "import sklearn\n",
    "from sklearn import utils, neighbors, ensemble, svm, metrics"
   ]
  },
  {
   "cell_type": "code",
   "execution_count": 2,
   "metadata": {},
   "outputs": [],
   "source": [
    "# Load the libraries\n",
    "import os\n",
    "import imageio\n",
    "import matplotlib.pyplot as plt\n",
    "import pandas as pd\n",
    "import numpy as np\n",
    "import random\n",
    "import seaborn as sns"
   ]
  },
  {
   "cell_type": "code",
   "execution_count": 3,
   "metadata": {},
   "outputs": [],
   "source": [
    "#read_csv\n",
    "\n",
    "labels=pd.read_csv(\"/Users/anaraquelpengelly/Desktop/MSC_health_data_science/term_2/machine_learning/project_malaria/Malaria_blood_image_classification/labels.csv\")\n",
    "\n"
   ]
  },
  {
   "cell_type": "code",
   "execution_count": 9,
   "metadata": {},
   "outputs": [],
   "source": [
    "#shuffle the df\n",
    "random.seed(30)\n",
    "labels = sklearn.utils.shuffle(labels)"
   ]
  },
  {
   "cell_type": "code",
   "execution_count": 10,
   "metadata": {},
   "outputs": [
    {
     "data": {
      "text/html": [
       "<div>\n",
       "<style scoped>\n",
       "    .dataframe tbody tr th:only-of-type {\n",
       "        vertical-align: middle;\n",
       "    }\n",
       "\n",
       "    .dataframe tbody tr th {\n",
       "        vertical-align: top;\n",
       "    }\n",
       "\n",
       "    .dataframe thead th {\n",
       "        text-align: right;\n",
       "    }\n",
       "</style>\n",
       "<table border=\"1\" class=\"dataframe\">\n",
       "  <thead>\n",
       "    <tr style=\"text-align: right;\">\n",
       "      <th></th>\n",
       "      <th>Unnamed: 0</th>\n",
       "      <th>0</th>\n",
       "      <th>infect_status</th>\n",
       "    </tr>\n",
       "  </thead>\n",
       "  <tbody>\n",
       "    <tr>\n",
       "      <th>8090</th>\n",
       "      <td>58315</td>\n",
       "      <td>C39P4thinF_original_IMG_20150622_105335_cell_6...</td>\n",
       "      <td>1</td>\n",
       "    </tr>\n",
       "    <tr>\n",
       "      <th>26959</th>\n",
       "      <td>14862</td>\n",
       "      <td>C93P54ThinF_IMG_20150821_162641_cell_105.png</td>\n",
       "      <td>0</td>\n",
       "    </tr>\n",
       "    <tr>\n",
       "      <th>6785</th>\n",
       "      <td>51655</td>\n",
       "      <td>C182P143NThinF_IMG_20151201_172524_cell_204.png</td>\n",
       "      <td>1</td>\n",
       "    </tr>\n",
       "    <tr>\n",
       "      <th>26346</th>\n",
       "      <td>14177</td>\n",
       "      <td>C84P45ThinF_IMG_20150818_101146_cell_45.png</td>\n",
       "      <td>0</td>\n",
       "    </tr>\n",
       "    <tr>\n",
       "      <th>21850</th>\n",
       "      <td>9129</td>\n",
       "      <td>C227ThinF_IMG_20151112_135509_cell_173.png</td>\n",
       "      <td>0</td>\n",
       "    </tr>\n",
       "  </tbody>\n",
       "</table>\n",
       "</div>"
      ],
      "text/plain": [
       "       Unnamed: 0                                                  0  \\\n",
       "8090        58315  C39P4thinF_original_IMG_20150622_105335_cell_6...   \n",
       "26959       14862       C93P54ThinF_IMG_20150821_162641_cell_105.png   \n",
       "6785        51655    C182P143NThinF_IMG_20151201_172524_cell_204.png   \n",
       "26346       14177        C84P45ThinF_IMG_20150818_101146_cell_45.png   \n",
       "21850        9129         C227ThinF_IMG_20151112_135509_cell_173.png   \n",
       "\n",
       "       infect_status  \n",
       "8090               1  \n",
       "26959              0  \n",
       "6785               1  \n",
       "26346              0  \n",
       "21850              0  "
      ]
     },
     "execution_count": 10,
     "metadata": {},
     "output_type": "execute_result"
    }
   ],
   "source": [
    "labels.head()"
   ]
  },
  {
   "cell_type": "code",
   "execution_count": 37,
   "metadata": {},
   "outputs": [],
   "source": [
    "labels.to_csv(\"/Users/anaraquelpengelly/Desktop/MSC_health_data_science/term_2/machine_learning/project_malaria/Malaria_blood_image_classification/shuffled_labels.csv\")"
   ]
  },
  {
   "cell_type": "markdown",
   "metadata": {},
   "source": [
    "## Splitting the training and test sets"
   ]
  },
  {
   "cell_type": "markdown",
   "metadata": {},
   "source": [
    "Now we have a shuffled label df, we need to decide what the best way to split the training and test sets.\n",
    "- 80% and 20% ? or something else? how do we determine the best way to do it?\n",
    "- in any case we should have 50% of images that are infected and uninfected in the training set ( and the test set)"
   ]
  },
  {
   "cell_type": "code",
   "execution_count": 20,
   "metadata": {},
   "outputs": [],
   "source": [
    "#sampleing labels for the training set:\n",
    "training=labels.sample(frac=0.8, replace=False, random_state=30)"
   ]
  },
  {
   "cell_type": "code",
   "execution_count": 21,
   "metadata": {},
   "outputs": [
    {
     "data": {
      "text/plain": [
       "(21946, 3)"
      ]
     },
     "execution_count": 21,
     "metadata": {},
     "output_type": "execute_result"
    }
   ],
   "source": [
    "training.shape"
   ]
  },
  {
   "cell_type": "code",
   "execution_count": 22,
   "metadata": {},
   "outputs": [
    {
     "data": {
      "text/html": [
       "<div>\n",
       "<style scoped>\n",
       "    .dataframe tbody tr th:only-of-type {\n",
       "        vertical-align: middle;\n",
       "    }\n",
       "\n",
       "    .dataframe tbody tr th {\n",
       "        vertical-align: top;\n",
       "    }\n",
       "\n",
       "    .dataframe thead th {\n",
       "        text-align: right;\n",
       "    }\n",
       "</style>\n",
       "<table border=\"1\" class=\"dataframe\">\n",
       "  <thead>\n",
       "    <tr style=\"text-align: right;\">\n",
       "      <th></th>\n",
       "      <th>Unnamed: 0</th>\n",
       "      <th>0</th>\n",
       "      <th>infect_status</th>\n",
       "    </tr>\n",
       "  </thead>\n",
       "  <tbody>\n",
       "    <tr>\n",
       "      <th>8988</th>\n",
       "      <td>62154</td>\n",
       "      <td>C48P9thinF_IMG_20150721_161055_cell_195.png</td>\n",
       "      <td>1</td>\n",
       "    </tr>\n",
       "    <tr>\n",
       "      <th>26960</th>\n",
       "      <td>14863</td>\n",
       "      <td>C93P54ThinF_IMG_20150821_162641_cell_112.png</td>\n",
       "      <td>0</td>\n",
       "    </tr>\n",
       "    <tr>\n",
       "      <th>4945</th>\n",
       "      <td>43681</td>\n",
       "      <td>C170P131ThinF_IMG_20151119_120019_cell_244.png</td>\n",
       "      <td>1</td>\n",
       "    </tr>\n",
       "    <tr>\n",
       "      <th>4584</th>\n",
       "      <td>36096</td>\n",
       "      <td>C158P119ThinF_IMG_20151115_181136_cell_199.png</td>\n",
       "      <td>1</td>\n",
       "    </tr>\n",
       "    <tr>\n",
       "      <th>767</th>\n",
       "      <td>9586</td>\n",
       "      <td>C116P77ThinF_IMG_20150930_171558_cell_102.png</td>\n",
       "      <td>1</td>\n",
       "    </tr>\n",
       "  </tbody>\n",
       "</table>\n",
       "</div>"
      ],
      "text/plain": [
       "       Unnamed: 0                                               0  \\\n",
       "8988        62154     C48P9thinF_IMG_20150721_161055_cell_195.png   \n",
       "26960       14863    C93P54ThinF_IMG_20150821_162641_cell_112.png   \n",
       "4945        43681  C170P131ThinF_IMG_20151119_120019_cell_244.png   \n",
       "4584        36096  C158P119ThinF_IMG_20151115_181136_cell_199.png   \n",
       "767          9586   C116P77ThinF_IMG_20150930_171558_cell_102.png   \n",
       "\n",
       "       infect_status  \n",
       "8988               1  \n",
       "26960              0  \n",
       "4945               1  \n",
       "4584               1  \n",
       "767                1  "
      ]
     },
     "execution_count": 22,
     "metadata": {},
     "output_type": "execute_result"
    }
   ],
   "source": [
    "training.head()"
   ]
  },
  {
   "cell_type": "code",
   "execution_count": 24,
   "metadata": {
    "scrolled": true
   },
   "outputs": [
    {
     "data": {
      "text/plain": [
       "1    10973\n",
       "0    10973\n",
       "Name: infect_status, dtype: int64"
      ]
     },
     "execution_count": 24,
     "metadata": {},
     "output_type": "execute_result"
    }
   ],
   "source": [
    "training[\"infect_status\"].value_counts()"
   ]
  },
  {
   "cell_type": "code",
   "execution_count": 26,
   "metadata": {},
   "outputs": [
    {
     "data": {
      "text/plain": [
       "C85P46ThinF_IMG_20150820_110040_cell_185.png          1\n",
       "C59P20thinF_IMG_20150803_113809_cell_39.png           1\n",
       "C78P39ThinF_IMG_20150606_104106_cell_8.png            1\n",
       "C39P4thinF_original_IMG_20150622_114122_cell_1.png    1\n",
       "C161P122ThinF_IMG_20151116_101403_cell_101.png        1\n",
       "                                                     ..\n",
       "C144P105ThinF_IMG_20151015_160529_cell_170.png        1\n",
       "C208ThinF_IMG_20151029_155827_cell_23.png             1\n",
       "C133P94ThinF_IMG_20151004_154351_cell_94.png          1\n",
       "C48P9thinF_IMG_20150721_161055_cell_195.png           1\n",
       "C180P141NThinF_IMG_20151201_165659_cell_13.png        1\n",
       "Name: 0, Length: 21946, dtype: int64"
      ]
     },
     "execution_count": 26,
     "metadata": {},
     "output_type": "execute_result"
    }
   ],
   "source": [
    "training[\"0\"].value_counts()"
   ]
  },
  {
   "cell_type": "code",
   "execution_count": 35,
   "metadata": {},
   "outputs": [
    {
     "data": {
      "text/plain": [
       "(5487, 3)"
      ]
     },
     "execution_count": 35,
     "metadata": {},
     "output_type": "execute_result"
    }
   ],
   "source": [
    "#sampleing lables for the test set: \n",
    "#Identify what values are in labels and not in training:\n",
    "# %%timeit\n",
    "diff=set(labels[\"0\"]).difference(training[\"0\"])\n",
    "where_diff =labels[\"0\"].isin(diff)\n",
    "#slice labels and add create df\n",
    "test=labels[where_diff]\n",
    "test.shape"
   ]
  },
  {
   "cell_type": "code",
   "execution_count": 31,
   "metadata": {},
   "outputs": [
    {
     "data": {
      "text/html": [
       "<div>\n",
       "<style scoped>\n",
       "    .dataframe tbody tr th:only-of-type {\n",
       "        vertical-align: middle;\n",
       "    }\n",
       "\n",
       "    .dataframe tbody tr th {\n",
       "        vertical-align: top;\n",
       "    }\n",
       "\n",
       "    .dataframe thead th {\n",
       "        text-align: right;\n",
       "    }\n",
       "</style>\n",
       "<table border=\"1\" class=\"dataframe\">\n",
       "  <thead>\n",
       "    <tr style=\"text-align: right;\">\n",
       "      <th></th>\n",
       "      <th>Unnamed: 0</th>\n",
       "      <th>0</th>\n",
       "      <th>infect_status</th>\n",
       "    </tr>\n",
       "  </thead>\n",
       "  <tbody>\n",
       "    <tr>\n",
       "      <th>2868</th>\n",
       "      <td>20015</td>\n",
       "      <td>C132P93ThinF_IMG_20151004_152505_cell_135.png</td>\n",
       "      <td>1</td>\n",
       "    </tr>\n",
       "    <tr>\n",
       "      <th>22481</th>\n",
       "      <td>9842</td>\n",
       "      <td>C236ThinF_IMG_20151127_102635_cell_26.png</td>\n",
       "      <td>0</td>\n",
       "    </tr>\n",
       "    <tr>\n",
       "      <th>1506</th>\n",
       "      <td>11453</td>\n",
       "      <td>C119P80ThinF_IMG_20151002_123911_cell_139.png</td>\n",
       "      <td>1</td>\n",
       "    </tr>\n",
       "    <tr>\n",
       "      <th>4666</th>\n",
       "      <td>36762</td>\n",
       "      <td>C159P120ThinF_IMG_20151115_190642_cell_200.png</td>\n",
       "      <td>1</td>\n",
       "    </tr>\n",
       "    <tr>\n",
       "      <th>7459</th>\n",
       "      <td>52916</td>\n",
       "      <td>C184P145ThinF_IMG_20151203_104153_cell_164.png</td>\n",
       "      <td>1</td>\n",
       "    </tr>\n",
       "  </tbody>\n",
       "</table>\n",
       "</div>"
      ],
      "text/plain": [
       "       Unnamed: 0                                               0  \\\n",
       "2868        20015   C132P93ThinF_IMG_20151004_152505_cell_135.png   \n",
       "22481        9842       C236ThinF_IMG_20151127_102635_cell_26.png   \n",
       "1506        11453   C119P80ThinF_IMG_20151002_123911_cell_139.png   \n",
       "4666        36762  C159P120ThinF_IMG_20151115_190642_cell_200.png   \n",
       "7459        52916  C184P145ThinF_IMG_20151203_104153_cell_164.png   \n",
       "\n",
       "       infect_status  \n",
       "2868               1  \n",
       "22481              0  \n",
       "1506               1  \n",
       "4666               1  \n",
       "7459               1  "
      ]
     },
     "execution_count": 31,
     "metadata": {},
     "output_type": "execute_result"
    }
   ],
   "source": [
    "test.head()"
   ]
  },
  {
   "cell_type": "code",
   "execution_count": 33,
   "metadata": {
    "scrolled": true
   },
   "outputs": [
    {
     "data": {
      "text/plain": [
       "1    2749\n",
       "0    2738\n",
       "Name: infect_status, dtype: int64"
      ]
     },
     "execution_count": 33,
     "metadata": {},
     "output_type": "execute_result"
    }
   ],
   "source": [
    "test[\"infect_status\"].value_counts()"
   ]
  },
  {
   "cell_type": "code",
   "execution_count": 36,
   "metadata": {},
   "outputs": [],
   "source": [
    "#now save both as csvs\n",
    "path=\"/Users/anaraquelpengelly/Desktop/MSC_health_data_science/term_2/machine_learning/project_malaria/Malaria_blood_image_classification/\"\n",
    "training.to_csv((path+\"training_labels.csv\"))\n",
    "test.to_csv((path+\"test_labels.csv\"))"
   ]
  },
  {
   "cell_type": "code",
   "execution_count": 41,
   "metadata": {},
   "outputs": [
    {
     "data": {
      "text/plain": [
       "(21946, 4)"
      ]
     },
     "execution_count": 41,
     "metadata": {},
     "output_type": "execute_result"
    }
   ],
   "source": [
    "#Just to check that thecsvs look fine \n",
    "a=pd.read_csv((path+\"training_labels.csv\"))\n",
    "a.shape"
   ]
  },
  {
   "cell_type": "code",
   "execution_count": 42,
   "metadata": {},
   "outputs": [
    {
     "data": {
      "text/plain": [
       "(5487, 4)"
      ]
     },
     "execution_count": 42,
     "metadata": {},
     "output_type": "execute_result"
    }
   ],
   "source": [
    "b=pd.read_csv((path+\"test_labels.csv\"))\n",
    "b.shape"
   ]
  },
  {
   "cell_type": "code",
   "execution_count": 43,
   "metadata": {},
   "outputs": [
    {
     "data": {
      "text/plain": [
       "(27433, 4)"
      ]
     },
     "execution_count": 43,
     "metadata": {},
     "output_type": "execute_result"
    }
   ],
   "source": [
    "c=pd.read_csv((path+\"shuffled_labels.csv\"))\n",
    "c.shape"
   ]
  },
  {
   "cell_type": "markdown",
   "metadata": {},
   "source": [
    "All looks good ecscept that we now have tw extra useless columns! "
   ]
  },
  {
   "cell_type": "markdown",
   "metadata": {},
   "source": [
    "Now we need to put all pictures in one folder and then create a function to grab from that folder the training and the test images."
   ]
  },
  {
   "cell_type": "markdown",
   "metadata": {},
   "source": [
    "## Split the training set in cross validation sets..."
   ]
  },
  {
   "cell_type": "markdown",
   "metadata": {},
   "source": [
    "## Making a toy dataset label file"
   ]
  },
  {
   "cell_type": "code",
   "execution_count": 4,
   "metadata": {},
   "outputs": [],
   "source": [
    "#randomly select 200 parasited and uninfected images:\n",
    "\n",
    "toy=labels.sample(n=200, replace=False, random_state=30)\n",
    "\n"
   ]
  },
  {
   "cell_type": "code",
   "execution_count": 5,
   "metadata": {},
   "outputs": [
    {
     "data": {
      "text/plain": [
       "(200, 3)"
      ]
     },
     "execution_count": 5,
     "metadata": {},
     "output_type": "execute_result"
    }
   ],
   "source": [
    "toy.shape"
   ]
  },
  {
   "cell_type": "code",
   "execution_count": 6,
   "metadata": {
    "scrolled": false
   },
   "outputs": [
    {
     "data": {
      "text/plain": [
       "0    104\n",
       "1     96\n",
       "Name: infect_status, dtype: int64"
      ]
     },
     "execution_count": 6,
     "metadata": {},
     "output_type": "execute_result"
    }
   ],
   "source": [
    "toy[\"infect_status\"].value_counts()"
   ]
  },
  {
   "cell_type": "markdown",
   "metadata": {},
   "source": [
    "This toy doesn't have the same number of uninfected and infected images, so I am going to try a different strategy:"
   ]
  },
  {
   "cell_type": "code",
   "execution_count": 43,
   "metadata": {},
   "outputs": [
    {
     "data": {
      "text/plain": [
       "1    100\n",
       "0    100\n",
       "Name: infect_status, dtype: int64"
      ]
     },
     "execution_count": 43,
     "metadata": {},
     "output_type": "execute_result"
    }
   ],
   "source": [
    "grouped=labels.groupby(\"infect_status\")\n",
    "toy_df=grouped.apply(lambda x: x.sample(n=100, replace=False))\n",
    "toy_df[\"infect_status\"].value_counts()"
   ]
  },
  {
   "cell_type": "markdown",
   "metadata": {},
   "source": [
    "I will now check that they are unique images: "
   ]
  },
  {
   "cell_type": "code",
   "execution_count": 44,
   "metadata": {},
   "outputs": [
    {
     "name": "stdout",
     "output_type": "stream",
     "text": [
      "200\n"
     ]
    }
   ],
   "source": [
    "print(len(toy_df.drop_duplicates()))"
   ]
  },
  {
   "cell_type": "code",
   "execution_count": 45,
   "metadata": {
    "scrolled": true
   },
   "outputs": [
    {
     "data": {
      "text/html": [
       "<div>\n",
       "<style scoped>\n",
       "    .dataframe tbody tr th:only-of-type {\n",
       "        vertical-align: middle;\n",
       "    }\n",
       "\n",
       "    .dataframe tbody tr th {\n",
       "        vertical-align: top;\n",
       "    }\n",
       "\n",
       "    .dataframe thead th {\n",
       "        text-align: right;\n",
       "    }\n",
       "</style>\n",
       "<table border=\"1\" class=\"dataframe\">\n",
       "  <thead>\n",
       "    <tr style=\"text-align: right;\">\n",
       "      <th></th>\n",
       "      <th></th>\n",
       "      <th>Unnamed: 0</th>\n",
       "      <th>0</th>\n",
       "      <th>infect_status</th>\n",
       "    </tr>\n",
       "    <tr>\n",
       "      <th>infect_status</th>\n",
       "      <th></th>\n",
       "      <th></th>\n",
       "      <th></th>\n",
       "      <th></th>\n",
       "    </tr>\n",
       "  </thead>\n",
       "  <tbody>\n",
       "    <tr>\n",
       "      <th rowspan=\"5\" valign=\"top\">0</th>\n",
       "      <th>23734</th>\n",
       "      <td>11248</td>\n",
       "      <td>C4thin_original_IMG_20150608_165540_cell_226.png</td>\n",
       "      <td>0</td>\n",
       "    </tr>\n",
       "    <tr>\n",
       "      <th>13904</th>\n",
       "      <td>197</td>\n",
       "      <td>C103P64ThinF_IMG_20150918_165016_cell_84.png</td>\n",
       "      <td>0</td>\n",
       "    </tr>\n",
       "    <tr>\n",
       "      <th>21650</th>\n",
       "      <td>8900</td>\n",
       "      <td>C224ThinF_IMG_20151112_112834_cell_144.png</td>\n",
       "      <td>0</td>\n",
       "    </tr>\n",
       "    <tr>\n",
       "      <th>24889</th>\n",
       "      <td>12535</td>\n",
       "      <td>C64P25N_ThinF_IMG_20150818_153517_cell_145.png</td>\n",
       "      <td>0</td>\n",
       "    </tr>\n",
       "    <tr>\n",
       "      <th>24395</th>\n",
       "      <td>11985</td>\n",
       "      <td>C58P19thinF_IMG_20150802_122846_cell_100.png</td>\n",
       "      <td>0</td>\n",
       "    </tr>\n",
       "  </tbody>\n",
       "</table>\n",
       "</div>"
      ],
      "text/plain": [
       "                     Unnamed: 0  \\\n",
       "infect_status                     \n",
       "0             23734       11248   \n",
       "              13904         197   \n",
       "              21650        8900   \n",
       "              24889       12535   \n",
       "              24395       11985   \n",
       "\n",
       "                                                                    0  \\\n",
       "infect_status                                                           \n",
       "0             23734  C4thin_original_IMG_20150608_165540_cell_226.png   \n",
       "              13904      C103P64ThinF_IMG_20150918_165016_cell_84.png   \n",
       "              21650        C224ThinF_IMG_20151112_112834_cell_144.png   \n",
       "              24889    C64P25N_ThinF_IMG_20150818_153517_cell_145.png   \n",
       "              24395      C58P19thinF_IMG_20150802_122846_cell_100.png   \n",
       "\n",
       "                     infect_status  \n",
       "infect_status                       \n",
       "0             23734              0  \n",
       "              13904              0  \n",
       "              21650              0  \n",
       "              24889              0  \n",
       "              24395              0  "
      ]
     },
     "execution_count": 45,
     "metadata": {},
     "output_type": "execute_result"
    }
   ],
   "source": [
    "toy_df.head()"
   ]
  },
  {
   "cell_type": "code",
   "execution_count": 46,
   "metadata": {
    "scrolled": true
   },
   "outputs": [
    {
     "data": {
      "text/html": [
       "<div>\n",
       "<style scoped>\n",
       "    .dataframe tbody tr th:only-of-type {\n",
       "        vertical-align: middle;\n",
       "    }\n",
       "\n",
       "    .dataframe tbody tr th {\n",
       "        vertical-align: top;\n",
       "    }\n",
       "\n",
       "    .dataframe thead th {\n",
       "        text-align: right;\n",
       "    }\n",
       "</style>\n",
       "<table border=\"1\" class=\"dataframe\">\n",
       "  <thead>\n",
       "    <tr style=\"text-align: right;\">\n",
       "      <th></th>\n",
       "      <th>Unnamed: 0</th>\n",
       "      <th>0</th>\n",
       "      <th>infect_status</th>\n",
       "    </tr>\n",
       "  </thead>\n",
       "  <tbody>\n",
       "    <tr>\n",
       "      <th>24018</th>\n",
       "      <td>11567</td>\n",
       "      <td>C53P14thinF_IMG_20150726_114606_cell_11.png</td>\n",
       "      <td>0</td>\n",
       "    </tr>\n",
       "  </tbody>\n",
       "</table>\n",
       "</div>"
      ],
      "text/plain": [
       "       Unnamed: 0                                            0  infect_status\n",
       "24018       11567  C53P14thinF_IMG_20150726_114606_cell_11.png              0"
      ]
     },
     "execution_count": 46,
     "metadata": {},
     "output_type": "execute_result"
    }
   ],
   "source": [
    "#just checking that the label is correct!\n",
    "labels[labels[\"0\"]==\"C53P14thinF_IMG_20150726_114606_cell_11.png\"]\n"
   ]
  },
  {
   "cell_type": "code",
   "execution_count": 47,
   "metadata": {},
   "outputs": [],
   "source": [
    "#shuffle: \n",
    "random.seed(30)\n",
    "toy_df = sklearn.utils.shuffle(toy_df)"
   ]
  },
  {
   "cell_type": "code",
   "execution_count": 48,
   "metadata": {},
   "outputs": [
    {
     "data": {
      "text/html": [
       "<div>\n",
       "<style scoped>\n",
       "    .dataframe tbody tr th:only-of-type {\n",
       "        vertical-align: middle;\n",
       "    }\n",
       "\n",
       "    .dataframe tbody tr th {\n",
       "        vertical-align: top;\n",
       "    }\n",
       "\n",
       "    .dataframe thead th {\n",
       "        text-align: right;\n",
       "    }\n",
       "</style>\n",
       "<table border=\"1\" class=\"dataframe\">\n",
       "  <thead>\n",
       "    <tr style=\"text-align: right;\">\n",
       "      <th></th>\n",
       "      <th></th>\n",
       "      <th>Unnamed: 0</th>\n",
       "      <th>0</th>\n",
       "      <th>infect_status</th>\n",
       "    </tr>\n",
       "    <tr>\n",
       "      <th>infect_status</th>\n",
       "      <th></th>\n",
       "      <th></th>\n",
       "      <th></th>\n",
       "      <th></th>\n",
       "    </tr>\n",
       "  </thead>\n",
       "  <tbody>\n",
       "    <tr>\n",
       "      <th rowspan=\"3\" valign=\"top\">0</th>\n",
       "      <th>16932</th>\n",
       "      <td>3590</td>\n",
       "      <td>C145P106ThinF_IMG_20151016_154921_cell_52.png</td>\n",
       "      <td>0</td>\n",
       "    </tr>\n",
       "    <tr>\n",
       "      <th>17201</th>\n",
       "      <td>3891</td>\n",
       "      <td>C149P110ThinF_IMG_20151115_114910_cell_17.png</td>\n",
       "      <td>0</td>\n",
       "    </tr>\n",
       "    <tr>\n",
       "      <th>15066</th>\n",
       "      <td>1511</td>\n",
       "      <td>C120P81ThinF_IMG_20151002_130918_cell_169.png</td>\n",
       "      <td>0</td>\n",
       "    </tr>\n",
       "    <tr>\n",
       "      <th>1</th>\n",
       "      <th>3523</th>\n",
       "      <td>22306</td>\n",
       "      <td>C136P97ThinF_IMG_20151005_142437_cell_103.png</td>\n",
       "      <td>1</td>\n",
       "    </tr>\n",
       "    <tr>\n",
       "      <th>0</th>\n",
       "      <th>21050</th>\n",
       "      <td>8223</td>\n",
       "      <td>C215ThinF_IMG_20151106_133643_cell_204.png</td>\n",
       "      <td>0</td>\n",
       "    </tr>\n",
       "  </tbody>\n",
       "</table>\n",
       "</div>"
      ],
      "text/plain": [
       "                     Unnamed: 0  \\\n",
       "infect_status                     \n",
       "0             16932        3590   \n",
       "              17201        3891   \n",
       "              15066        1511   \n",
       "1             3523        22306   \n",
       "0             21050        8223   \n",
       "\n",
       "                                                                 0  \\\n",
       "infect_status                                                        \n",
       "0             16932  C145P106ThinF_IMG_20151016_154921_cell_52.png   \n",
       "              17201  C149P110ThinF_IMG_20151115_114910_cell_17.png   \n",
       "              15066  C120P81ThinF_IMG_20151002_130918_cell_169.png   \n",
       "1             3523   C136P97ThinF_IMG_20151005_142437_cell_103.png   \n",
       "0             21050     C215ThinF_IMG_20151106_133643_cell_204.png   \n",
       "\n",
       "                     infect_status  \n",
       "infect_status                       \n",
       "0             16932              0  \n",
       "              17201              0  \n",
       "              15066              0  \n",
       "1             3523               1  \n",
       "0             21050              0  "
      ]
     },
     "execution_count": 48,
     "metadata": {},
     "output_type": "execute_result"
    }
   ],
   "source": [
    "toy_df.head()"
   ]
  },
  {
   "cell_type": "code",
   "execution_count": 67,
   "metadata": {},
   "outputs": [],
   "source": [
    "#now save df:\n",
    "path=\"/Users/anaraquelpengelly/Desktop/MSC_health_data_science/term_2/machine_learning/project_malaria/Malaria_blood_image_classification/\"\n",
    "toy_df.to_csv(path+\"toy_df.csv\", index=False)"
   ]
  },
  {
   "cell_type": "code",
   "execution_count": 68,
   "metadata": {},
   "outputs": [
    {
     "data": {
      "text/html": [
       "<div>\n",
       "<style scoped>\n",
       "    .dataframe tbody tr th:only-of-type {\n",
       "        vertical-align: middle;\n",
       "    }\n",
       "\n",
       "    .dataframe tbody tr th {\n",
       "        vertical-align: top;\n",
       "    }\n",
       "\n",
       "    .dataframe thead th {\n",
       "        text-align: right;\n",
       "    }\n",
       "</style>\n",
       "<table border=\"1\" class=\"dataframe\">\n",
       "  <thead>\n",
       "    <tr style=\"text-align: right;\">\n",
       "      <th></th>\n",
       "      <th>infect_status</th>\n",
       "      <th>0</th>\n",
       "    </tr>\n",
       "  </thead>\n",
       "  <tbody>\n",
       "    <tr>\n",
       "      <th>0</th>\n",
       "      <td>0</td>\n",
       "      <td>C145P106ThinF_IMG_20151016_154921_cell_52.png</td>\n",
       "    </tr>\n",
       "    <tr>\n",
       "      <th>1</th>\n",
       "      <td>0</td>\n",
       "      <td>C149P110ThinF_IMG_20151115_114910_cell_17.png</td>\n",
       "    </tr>\n",
       "    <tr>\n",
       "      <th>2</th>\n",
       "      <td>0</td>\n",
       "      <td>C120P81ThinF_IMG_20151002_130918_cell_169.png</td>\n",
       "    </tr>\n",
       "    <tr>\n",
       "      <th>3</th>\n",
       "      <td>1</td>\n",
       "      <td>C136P97ThinF_IMG_20151005_142437_cell_103.png</td>\n",
       "    </tr>\n",
       "    <tr>\n",
       "      <th>4</th>\n",
       "      <td>0</td>\n",
       "      <td>C215ThinF_IMG_20151106_133643_cell_204.png</td>\n",
       "    </tr>\n",
       "  </tbody>\n",
       "</table>\n",
       "</div>"
      ],
      "text/plain": [
       "   infect_status                                              0\n",
       "0              0  C145P106ThinF_IMG_20151016_154921_cell_52.png\n",
       "1              0  C149P110ThinF_IMG_20151115_114910_cell_17.png\n",
       "2              0  C120P81ThinF_IMG_20151002_130918_cell_169.png\n",
       "3              1  C136P97ThinF_IMG_20151005_142437_cell_103.png\n",
       "4              0     C215ThinF_IMG_20151106_133643_cell_204.png"
      ]
     },
     "execution_count": 68,
     "metadata": {},
     "output_type": "execute_result"
    }
   ],
   "source": [
    "#test:\n",
    "toy_df=pd.read_csv(path+\"toy_df.csv\")\n",
    "toy_df.head()"
   ]
  },
  {
   "cell_type": "markdown",
   "metadata": {},
   "source": [
    "Need to see how to access the rownames of a df in pandas.."
   ]
  },
  {
   "cell_type": "code",
   "execution_count": 69,
   "metadata": {},
   "outputs": [
    {
     "data": {
      "text/plain": [
       "(40, 2)"
      ]
     },
     "execution_count": 69,
     "metadata": {},
     "output_type": "execute_result"
    }
   ],
   "source": [
    "#now make the training and the test DFs\n",
    "##sampleing labels for the training set:\n",
    "training_toy=toy_df.sample(frac=0.8, replace=False, random_state=30)\n",
    "##sampleing labels for the test set: \n",
    "diff=set(toy_df[\"0\"]).difference(training_toy[\"0\"])\n",
    "where_diff =toy_df[\"0\"].isin(diff)\n",
    "#slice labels and add create df\n",
    "test_toy=toy_df[where_diff]\n",
    "test_toy.shape"
   ]
  },
  {
   "cell_type": "code",
   "execution_count": 70,
   "metadata": {},
   "outputs": [
    {
     "data": {
      "text/html": [
       "<div>\n",
       "<style scoped>\n",
       "    .dataframe tbody tr th:only-of-type {\n",
       "        vertical-align: middle;\n",
       "    }\n",
       "\n",
       "    .dataframe tbody tr th {\n",
       "        vertical-align: top;\n",
       "    }\n",
       "\n",
       "    .dataframe thead th {\n",
       "        text-align: right;\n",
       "    }\n",
       "</style>\n",
       "<table border=\"1\" class=\"dataframe\">\n",
       "  <thead>\n",
       "    <tr style=\"text-align: right;\">\n",
       "      <th></th>\n",
       "      <th>infect_status</th>\n",
       "      <th>0</th>\n",
       "    </tr>\n",
       "  </thead>\n",
       "  <tbody>\n",
       "    <tr>\n",
       "      <th>7</th>\n",
       "      <td>1</td>\n",
       "      <td>C126P87ThinF_IMG_20151004_104441_cell_118.png</td>\n",
       "    </tr>\n",
       "    <tr>\n",
       "      <th>11</th>\n",
       "      <td>0</td>\n",
       "      <td>C112P73ThinF_IMG_20150930_131516_cell_108.png</td>\n",
       "    </tr>\n",
       "    <tr>\n",
       "      <th>13</th>\n",
       "      <td>0</td>\n",
       "      <td>C95P56ThinF_IMG_20150821_172607_cell_82.png</td>\n",
       "    </tr>\n",
       "    <tr>\n",
       "      <th>15</th>\n",
       "      <td>1</td>\n",
       "      <td>C48P9thinF_IMG_20150721_162732_cell_6.png</td>\n",
       "    </tr>\n",
       "    <tr>\n",
       "      <th>18</th>\n",
       "      <td>0</td>\n",
       "      <td>C46P7ThinF_IMG_20151130_210123_cell_24.png</td>\n",
       "    </tr>\n",
       "  </tbody>\n",
       "</table>\n",
       "</div>"
      ],
      "text/plain": [
       "    infect_status                                              0\n",
       "7               1  C126P87ThinF_IMG_20151004_104441_cell_118.png\n",
       "11              0  C112P73ThinF_IMG_20150930_131516_cell_108.png\n",
       "13              0    C95P56ThinF_IMG_20150821_172607_cell_82.png\n",
       "15              1      C48P9thinF_IMG_20150721_162732_cell_6.png\n",
       "18              0     C46P7ThinF_IMG_20151130_210123_cell_24.png"
      ]
     },
     "execution_count": 70,
     "metadata": {},
     "output_type": "execute_result"
    }
   ],
   "source": [
    "test_toy.head()"
   ]
  },
  {
   "cell_type": "code",
   "execution_count": 71,
   "metadata": {},
   "outputs": [],
   "source": [
    "#save all the toys as csvs:\n",
    "test_toy.to_csv(path+\"test_toy.csv\", index=False)\n",
    "training_toy.to_csv(path+\"training_toy.csv\", index=False)"
   ]
  }
 ],
 "metadata": {
  "kernelspec": {
   "display_name": "env_sklearn",
   "language": "python",
   "name": "env_sklearn"
  },
  "language_info": {
   "codemirror_mode": {
    "name": "ipython",
    "version": 3
   },
   "file_extension": ".py",
   "mimetype": "text/x-python",
   "name": "python",
   "nbconvert_exporter": "python",
   "pygments_lexer": "ipython3",
   "version": "3.7.6"
  }
 },
 "nbformat": 4,
 "nbformat_minor": 4
}
